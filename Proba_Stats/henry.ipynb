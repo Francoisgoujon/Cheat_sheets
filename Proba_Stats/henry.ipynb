{
 "cells": [
  {
   "attachments": {},
   "cell_type": "markdown",
   "id": "3f7f9cd9",
   "metadata": {},
   "source": [
    "# Logistic Regression Henry"
   ]
  },
  {
   "attachments": {},
   "cell_type": "markdown",
   "id": "f22b4346",
   "metadata": {},
   "source": [
    "$(Y_n, \\Phi_n)$ suite de variable aléatoire à valeurs dans $\\{0,1\\} \\times \\mathbb{R}^d$, indépendantes et equidistribuées, telles que pour tout $n \\geq 1$ la loi conditionnelle de $Y_n$ sachant $\\Phi_n$ est une loi de Bernouilli : <br>\n",
    "$$\n",
    "\\mathcal{L}(Y_n | \\Phi_n) = \\mathcal{B}(\\pi(\\theta^T \\Phi_n)) \\quad avec \\quad \\pi(x) = \\frac{\\exp(x)}{1 + \\exp(x)}\n",
    "$$"
   ]
  },
  {
   "cell_type": "code",
   "execution_count": 1,
   "id": "98f497a3",
   "metadata": {},
   "outputs": [],
   "source": [
    "import numpy as np\n",
    "import matplotlib.pyplot as plt"
   ]
  },
  {
   "cell_type": "code",
   "execution_count": null,
   "id": "99a4f912",
   "metadata": {},
   "outputs": [],
   "source": [
    "def pi_func(x):\n",
    "    return np.exp(x)/(1+np.exp(x))\n",
    "\n",
    "def sample(d, n, m, theta, means=None, covar=None):\n",
    "    # d : size of phi \n",
    "    # n : number of steps in each simulation\n",
    "    # m : number of simulations \n",
    "    if means == None:\n",
    "        means = np.zeros(d)\n",
    "    if covar == None:\n",
    "        covar = np.identity(d)\n",
    "    if m == 1:\n",
    "        phi = np.random.multivariate_normal(means, covar, n) # Shape (n, d)\n",
    "    else:\n",
    "        phi = np.random.multivariate_normal(means, covar, (n, m)) # Shape (n, m, d)\n",
    "    pi_phi = pi_func(phi@theta) # Shape (n, m) with pi_phi[i,j] = pi(theta.T phi[i,j])\n",
    "    y = np.random.binomial(1, pi_phi) # Shape (n, m)\n",
    "    return [phi, pi_phi, y]\n",
    "\n",
    "\n",
    "def newton(n, d, phi, y, beta, c):\n",
    "    a  = np.zeros(n+1)\n",
    "    theta = np.zeros((n+1, d))\n",
    "    theta[0] = np.random.normal(0, 1, d)\n",
    "    s = np.zeros((n+1, d, d))\n",
    "    s[0] = np.identity(d)\n",
    "    for i in range(1, n+1):\n",
    "        p = pi_func(np.sum(theta[i-1]*phi[i-1]))\n",
    "        a[i] = p*(1 - p)\n",
    "        theta[i] = theta[i-1] + (y[i-1] - p)*s[i-1]@phi[i-1]\n",
    "        a_real = np.max([a[i], c/(n**beta)])\n",
    "        s_1 = (s[i-1]@phi[i-1]).reshape(-1, 1)\n",
    "        s_2 = (phi[i-1]@s[i-1]).reshape(1, -1)\n",
    "        s[i] = s[i-1] - (a_real/(1 + a_real*(phi[i-1]@s[i-1]@phi[i-1])))*(s_1@s_2)\n",
    "    return theta"
   ]
  },
  {
   "cell_type": "code",
   "execution_count": null,
   "id": "59284df9",
   "metadata": {},
   "outputs": [],
   "source": [
    "d = 3\n",
    "n = 1000\n",
    "m = 1\n",
    "theta = np.array([1.5, -1, 2.7])\n",
    "res = sample(d, n, m, theta)"
   ]
  },
  {
   "cell_type": "code",
   "execution_count": null,
   "id": "2abd3cb2",
   "metadata": {},
   "outputs": [],
   "source": [
    "c = 10e-10\n",
    "beta = 0.49\n",
    "theta_n = newton(n, d, res[0], res[2], beta, c)"
   ]
  },
  {
   "cell_type": "code",
   "execution_count": null,
   "id": "eaa333b9",
   "metadata": {},
   "outputs": [
    {
     "data": {
      "image/png": "[encoded data removed]",
      "text/plain": [
       "<Figure size 432x288 with 1 Axes>"
      ]
     },
     "metadata": {},
     "output_type": "display_data"
    }
   ],
   "source": [
    "plt.plot(theta_n[:, 0], label=\"1\")\n",
    "plt.plot(theta_n[:, 1], label=\"2\")\n",
    "plt.plot(theta_n[:, 2], label=\"3\")\n",
    "plt.legend()\n",
    "plt.show()"
   ]
  },
  {
   "attachments": {},
   "cell_type": "markdown",
   "id": "3a8dcc7d",
   "metadata": {},
   "source": [
    "# Find index of target in semi-sorted array"
   ]
  },
  {
   "cell_type": "code",
   "execution_count": 2,
   "id": "9bd5c03f",
   "metadata": {},
   "outputs": [],
   "source": [
    "def find_k(nums):\n",
    "    # Find index of change : returned k is index of min value. Previous is max\n",
    "    n = len(nums)\n",
    "    left = 0\n",
    "    right = n-1\n",
    "    while left < right:\n",
    "        mid = (left + right)//2\n",
    "        if nums[mid] > nums[right]:\n",
    "            left = mid +1\n",
    "        else:\n",
    "            right = mid \n",
    "    return left \n",
    "\n",
    "def find_target(nums, k, target):\n",
    "    n = len(nums)\n",
    "    # shift pos = (true - k)%n\n",
    "    left = 0\n",
    "    right = n - 1\n",
    "    if target == nums[k-1]:\n",
    "        return (k - 1)%n\n",
    "    while left < right:\n",
    "        mid = (left+right)//2\n",
    "        shift_mid = (mid + k)%n\n",
    "        if target > nums[shift_mid]:\n",
    "            left = mid + 1\n",
    "        elif target < nums[shift_mid]:\n",
    "            right = mid\n",
    "        else:\n",
    "            return shift_mid\n",
    "        \n",
    "    return -1"
   ]
  },
  {
   "cell_type": "code",
   "execution_count": 3,
   "id": "e6f959d0",
   "metadata": {},
   "outputs": [],
   "source": [
    "a = [4,5,6,7,0,1,2]"
   ]
  },
  {
   "cell_type": "code",
   "execution_count": 11,
   "id": "4a28c893",
   "metadata": {},
   "outputs": [
    {
     "name": "stdout",
     "output_type": "stream",
     "text": [
      "4\n",
      "0  :  4\n",
      "1  :  5\n",
      "2  :  6\n",
      "3  :  -1\n",
      "4  :  0\n",
      "5  :  1\n",
      "6  :  2\n",
      "7  :  3\n"
     ]
    }
   ],
   "source": [
    "k = find_k(a)\n",
    "print(k)\n",
    "for i in range(8):\n",
    "    print(i, \" : \" ,find_target(a, k, i))"
   ]
  },
  {
   "cell_type": "code",
   "execution_count": null,
   "id": "607147a6",
   "metadata": {},
   "outputs": [],
   "source": []
  }
 ],
 "metadata": {
  "kernelspec": {
   "display_name": "MLenv",
   "language": "python",
   "name": "python3"
  },
  "language_info": {
   "codemirror_mode": {
    "name": "ipython",
    "version": 3
   },
   "file_extension": ".py",
   "mimetype": "text/x-python",
   "name": "python",
   "nbconvert_exporter": "python",
   "pygments_lexer": "ipython3",
   "version": "3.10.0"
  },
  "vscode": {
   "interpreter": {
    "hash": "6426c9220bfe1a8c7ff0ce859e6f33b5acad34c4c0f5893d3f6b700b522e351e"
   }
  }
 },
 "nbformat": 4,
 "nbformat_minor": 5
}
