{
 "cells": [
  {
   "cell_type": "markdown",
   "id": "fcc3bc95",
   "metadata": {},
   "source": [
    "# Cheat Sheet - CENTRAL LIMIT THEOREM\n",
    "### By François GOUJON"
   ]
  },
  {
   "cell_type": "code",
   "execution_count": 1,
   "id": "65f75dd1",
   "metadata": {},
   "outputs": [],
   "source": [
    "# Imports\n",
    "import random as rd\n",
    "import numpy as np\n",
    "from collections import defaultdict\n",
    "import matplotlib.pyplot as plt"
   ]
  },
  {
   "cell_type": "markdown",
   "id": "3e575f17",
   "metadata": {},
   "source": [
    "## Functions"
   ]
  },
  {
   "cell_type": "code",
   "execution_count": 2,
   "id": "7df85892",
   "metadata": {},
   "outputs": [],
   "source": [
    "def pileface():\n",
    "    # mu = 0, sigma = 1\n",
    "    return rd.choice([-1, 1])\n",
    "\n",
    "def de6face():\n",
    "    # mu = 3.5, sigma^2 = 2,92\n",
    "    return rd.randint(1, 6)\n",
    "\n",
    "def simulations(func, n, nbsimu):\n",
    "    \"\"\"\n",
    "    CLT : Xi random variable with mean mu and variance var \n",
    "    then X1 + X2 + ... + Xn follows N(n*mu, n*var) if n >> 50\n",
    "    Makes nbsimu simulations where each simulation is the sum of n random variables\n",
    "    and plots the obtained distribution\n",
    "    \"\"\"\n",
    "    sums = defaultdict(int)\n",
    "    for k in range(nbsimu):\n",
    "        s = 0\n",
    "        for i in range(n):\n",
    "            s += func()\n",
    "        sums[s] += 1\n",
    "    x, y = list(zip(*sums.items()))\n",
    "    plt.scatter(x,y)\n",
    "    #mean : should be n*mean\n",
    "    mean = 0\n",
    "    for i in range(len(x)):\n",
    "        mean += x[i] * y[i]\n",
    "    mean = mean/nbsimu\n",
    "    print(\"Mean : \" + str(mean))\n",
    "    #var : should be n*var\n",
    "    var = 0\n",
    "    for i in range(len(x)):\n",
    "        var += (x[i]-mean)**2 * y[i]\n",
    "    var = var/nbsimu\n",
    "    print(\"Var : \" + str(var))\n",
    "    return x,y "
   ]
  },
  {
   "cell_type": "markdown",
   "id": "6083beda",
   "metadata": {},
   "source": [
    "## Results"
   ]
  },
  {
   "cell_type": "code",
   "execution_count": 91,
   "id": "61283555",
   "metadata": {},
   "outputs": [
    {
     "name": "stdout",
     "output_type": "stream",
     "text": [
      "Mean : 0.0314\n",
      "Var : 100.04581404\n"
     ]
    },
    {
     "data": {
      "image/png": "[encoded data removed]",
      "text/plain": [
       "<Figure size 432x288 with 1 Axes>"
      ]
     },
     "metadata": {
      "needs_background": "light"
     },
     "output_type": "display_data"
    }
   ],
   "source": [
    "x, y = simulations(pileface, 100, 10000)"
   ]
  },
  {
   "cell_type": "code",
   "execution_count": 92,
   "id": "56c27fdd",
   "metadata": {},
   "outputs": [
    {
     "name": "stdout",
     "output_type": "stream",
     "text": [
      "Mean : 350.1262\n",
      "Var : 291.02867355999996\n"
     ]
    },
    {
     "data": {
      "image/png": "[encoded data removed]",
      "text/plain": [
       "<Figure size 432x288 with 1 Axes>"
      ]
     },
     "metadata": {
      "needs_background": "light"
     },
     "output_type": "display_data"
    }
   ],
   "source": [
    "x1, y1 = simulations(de6face, 100, 10000)"
   ]
  }
 ],
 "metadata": {
  "kernelspec": {
   "display_name": "Python 3.10.0 ('MLenv')",
   "language": "python",
   "name": "python3"
  },
  "language_info": {
   "codemirror_mode": {
    "name": "ipython",
    "version": 3
   },
   "file_extension": ".py",
   "mimetype": "text/x-python",
   "name": "python",
   "nbconvert_exporter": "python",
   "pygments_lexer": "ipython3",
   "version": "3.10.0"
  },
  "vscode": {
   "interpreter": {
    "hash": "6426c9220bfe1a8c7ff0ce859e6f33b5acad34c4c0f5893d3f6b700b522e351e"
   }
  }
 },
 "nbformat": 4,
 "nbformat_minor": 5
}
