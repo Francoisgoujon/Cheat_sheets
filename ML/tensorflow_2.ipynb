{
 "cells": [
  {
   "attachments": {},
   "cell_type": "markdown",
   "metadata": {},
   "source": [
    "# Cheat Sheet - TensorFlow - Part 2\n",
    "François Goujon\n",
    "\n",
    "Content : Use case examples"
   ]
  },
  {
   "cell_type": "code",
   "execution_count": 1,
   "metadata": {},
   "outputs": [
    {
     "name": "stderr",
     "output_type": "stream",
     "text": [
      "2023-02-02 21:53:59.724763: I tensorflow/core/platform/cpu_feature_guard.cc:193] This TensorFlow binary is optimized with oneAPI Deep Neural Network Library (oneDNN) to use the following CPU instructions in performance-critical operations:  AVX2 FMA\n",
      "To enable them in other operations, rebuild TensorFlow with the appropriate compiler flags.\n"
     ]
    }
   ],
   "source": [
    "import tensorflow as tf\n",
    "from tensorflow import keras\n",
    "from keras import layers\n",
    "import numpy as np\n",
    "import matplotlib.pyplot as plt"
   ]
  },
  {
   "attachments": {},
   "cell_type": "markdown",
   "metadata": {},
   "source": [
    "### Table of Contents\n",
    "\n",
    "* [DATA](#data)\n",
    "    * [Functions](#data_func)\n",
    "    * [Plots](#data_plots)\n",
    "    \n",
    "* [Models](#models)\n",
    "    * [Functions](#models_func)\n",
    "    * [Results](#models_res)\n",
    "        * [Detailed Run](#models_res_run)\n",
    "        * [Comparison](#models_res_comp)\n",
    "* [Custom Model](#custom)\n",
    "    * [Model](#custom_mod)\n",
    "    * [Data preparation functions](#models_data_prep)\n",
    "    * [Training functions](#custom_func)\n",
    "    * [Run](#custom_run)\n",
    "* [Transfer Learning](#tl)\n",
    "    * [Functions](#tl_func)\n",
    "    * [Run](#tl_run)"
   ]
  },
  {
   "attachments": {},
   "cell_type": "markdown",
   "metadata": {},
   "source": [
    "## DATA <a class=\"anchor\" id=\"data\"></a>\n",
    "#### Functions <a class=\"anchor\" id=\"data_func\"></a>"
   ]
  },
  {
   "cell_type": "code",
   "execution_count": 2,
   "metadata": {},
   "outputs": [],
   "source": [
    "def add_channel_dim(data):\n",
    "    # Reshape data from (Height, Width) to (Height, Width, Channels) with Channels = 1\n",
    "    return data.reshape(*data.shape, 1).astype(data.dtype)\n",
    "\n",
    "def get_data(name = \"mnist\", to_channels=False, as_type=None):\n",
    "    if name == \"mnist\":\n",
    "        data = tf.keras.datasets.mnist\n",
    "        class_names = ['0', '1', '2', '3', '4', '5', '6', '7', '8', '9']\n",
    "    elif name == \"fashion_mnist\":\n",
    "        data = tf.keras.datasets.fashion_mnist\n",
    "        class_names = ['T-shirt/top', 'Trouser', 'Pullover', 'Dress', 'Coat',\n",
    "               'Sandal', 'Shirt', 'Sneaker', 'Bag', 'Ankle boot']\n",
    "    else:\n",
    "        raise(\"Data does not exist\")\n",
    "    (x_train, y_train), (x_test, y_test) = data.load_data()\n",
    "    x_train, x_test = x_train / 255.0, x_test / 255.0\n",
    "    if as_type is not None:\n",
    "        x_train, x_test = x_train.astype(as_type), x_test.astype(as_type)\n",
    "    # Currently images are in shape (Height, Width).\n",
    "    # Conv2D layers needs data to be in shape (Height, Width, Channels).\n",
    "    if to_channels:\n",
    "        x_train = add_channel_dim(x_train)\n",
    "        x_test = add_channel_dim(x_test)\n",
    "    return x_train, y_train, x_test, y_test, class_names\n",
    "\n",
    "def plot_img(img, colorbar=False):\n",
    "    # Plot of an image\n",
    "    plt.figure(figsize=(3,3))\n",
    "    plt.imshow(img, cmap=plt.cm.binary)\n",
    "    plt.tick_params(labelsize=0, length=0)\n",
    "    if colorbar:\n",
    "        plt.colorbar()\n",
    "    plt.show()\n",
    "\n",
    "def plot_imgs(nb_to_plot, images, labels=None, label_names=None):\n",
    "    lab_b = False\n",
    "    if labels is not None:\n",
    "        lab_b = True\n",
    "    lab_name_b = False\n",
    "    if label_names is not None:\n",
    "        lab_name_b = True\n",
    "    # Plot of nb_to_plot images in a grid\n",
    "    nb_rows = int(np.ceil(nb_to_plot/10))\n",
    "    nb_cols = 10 if nb_to_plot > 9 else nb_to_plot\n",
    "    fig, axs = plt.subplots(nb_rows, nb_cols, figsize=(20,nb_rows*2))\n",
    "    for i, ax in enumerate(axs.ravel()):\n",
    "        ax.imshow(images[i], cmap=plt.cm.binary)\n",
    "        if lab_b:\n",
    "            if lab_name_b:\n",
    "                ax.set_title(label_names[labels[i]])\n",
    "            else:\n",
    "                ax.set_title(labels[i])\n",
    "        ax.tick_params(labelsize=0, length=0)\n",
    "    plt.show()"
   ]
  },
  {
   "attachments": {},
   "cell_type": "markdown",
   "metadata": {},
   "source": [
    "#### Plots <a class=\"anchor\" id=\"data_plots\"></a>"
   ]
  },
  {
   "cell_type": "code",
   "execution_count": 37,
   "metadata": {},
   "outputs": [
    {
     "data": {
      "image/png": "[encoded data removed]",
      "text/plain": [
       "<Figure size 1440x288 with 20 Axes>"
      ]
     },
     "metadata": {
      "needs_background": "light"
     },
     "output_type": "display_data"
    }
   ],
   "source": [
    "x_train, y_train, x_test, y_test, class_labels = get_data(\"mnist\")\n",
    "plot_imgs(20, x_train, y_train)"
   ]
  },
  {
   "cell_type": "code",
   "execution_count": 38,
   "metadata": {},
   "outputs": [
    {
     "data": {
      "image/png": "[encoded data removed]",
      "text/plain": [
       "<Figure size 1440x288 with 20 Axes>"
      ]
     },
     "metadata": {
      "needs_background": "light"
     },
     "output_type": "display_data"
    }
   ],
   "source": [
    "x_train, y_train, x_test, y_test, class_labels = get_data(\"fashion_mnist\")\n",
    "plot_imgs(20, x_train, y_train, class_labels)"
   ]
  },
  {
   "attachments": {},
   "cell_type": "markdown",
   "metadata": {},
   "source": [
    "## Models <a class=\"anchor\" id=\"models\"></a>\n",
    "#### Functions <a class=\"anchor\" id=\"models_func\"></a>"
   ]
  },
  {
   "cell_type": "code",
   "execution_count": 39,
   "metadata": {},
   "outputs": [],
   "source": [
    "def get_mlp_model():\n",
    "    # MLP\n",
    "    model = keras.Sequential([\n",
    "        layers.Flatten(input_shape=(28, 28)),\n",
    "        layers.Dense(128, activation='relu'),\n",
    "        layers.Dropout(0.2),\n",
    "        layers.Dense(10)]\n",
    "    )\n",
    "    model.compile(optimizer=tf.keras.optimizers.Adam(),\n",
    "              loss=keras.losses.SparseCategoricalCrossentropy(from_logits=True),\n",
    "              metrics=['accuracy'])\n",
    "    return model\n",
    "\n",
    "def get_conv_model():\n",
    "    # CNN\n",
    "    model = keras.Sequential([\n",
    "        layers.Conv2D(32, 3, activation='relu'),\n",
    "        layers.Flatten(),\n",
    "        layers.Dense(128, activation='relu'),\n",
    "        layers.Dense(10)]\n",
    "    )\n",
    "    model.compile(optimizer=tf.keras.optimizers.Adam(),\n",
    "              loss=keras.losses.SparseCategoricalCrossentropy(from_logits=True),\n",
    "              metrics=['accuracy'])\n",
    "    return model\n",
    "\n",
    "def get_probability_model(model):\n",
    "    \"\"\"\n",
    "    If we want a model with output values in [0,1] to represent probabilities, we need the SoftMax activation function.\n",
    "    We could add the SoftMax layer directly as the last layer of the model when building it,\n",
    "    however this is not recommended as it induces numerical approximations during training.\n",
    "    So we can add it independently over the model.\n",
    "    \"\"\"\n",
    "    probability_model = tf.keras.Sequential([\n",
    "        model,\n",
    "        layers.Softmax()\n",
    "    ])\n",
    "    return probability_model\n",
    "\n",
    "def run_model(model_type=\"mlp\", data=\"mnist\", epochs = None):\n",
    "    # Train chosen model on chosen data\n",
    "    models = {\"mlp\": {\n",
    "                \"func\": get_mlp_model,\n",
    "                \"default_epoch\": 5},\n",
    "            \"cnn\": {\n",
    "                \"func\": get_conv_model,\n",
    "                \"default_epoch\":3}\n",
    "    }\n",
    "    need_channels = [\"cnn\"]\n",
    "    channels = model_type in need_channels\n",
    "    # Model initialisation\n",
    "    if model_type in models:\n",
    "        model = models[model_type][\"func\"]()\n",
    "        if epochs is None:\n",
    "            epochs = models[model_type][\"default_epoch\"]\n",
    "    else:\n",
    "        raise(\"Model type does not exist\")\n",
    "    # Data initialisation\n",
    "    x_train, y_train, x_test, y_test, class_labels = get_data(name = data, to_channels=channels)\n",
    "    # Training\n",
    "    print(\"Training : \")\n",
    "    hist = model.fit(x_train, y_train, epochs=epochs)\n",
    "    print(\"\\nEvaluation : \")\n",
    "    ev = model.evaluate(x_test,  y_test, verbose=1)\n",
    "    return model"
   ]
  },
  {
   "attachments": {},
   "cell_type": "markdown",
   "metadata": {},
   "source": [
    "### Results <a class=\"anchor\" id=\"models_res\"></a>\n",
    "#### Detailed Run <a class=\"anchor\" id=\"models_res_run\"></a>"
   ]
  },
  {
   "cell_type": "code",
   "execution_count": 41,
   "metadata": {},
   "outputs": [],
   "source": [
    "# MLP Model on MNIST\n",
    "mlp_model = get_mlp_model()\n",
    "x_train, y_train, x_test, y_test, class_labels = get_data(\"mnist\")"
   ]
  },
  {
   "cell_type": "code",
   "execution_count": 42,
   "metadata": {},
   "outputs": [
    {
     "name": "stdout",
     "output_type": "stream",
     "text": [
      "Epoch 1/5\n",
      "1875/1875 [==============================] - 4s 2ms/step - loss: 0.2973 - accuracy: 0.9142\n",
      "Epoch 2/5\n",
      "1875/1875 [==============================] - 3s 2ms/step - loss: 0.1426 - accuracy: 0.9577\n",
      "Epoch 3/5\n",
      "1875/1875 [==============================] - 3s 2ms/step - loss: 0.1061 - accuracy: 0.9684\n",
      "Epoch 4/5\n",
      "1875/1875 [==============================] - 3s 2ms/step - loss: 0.0847 - accuracy: 0.9743\n",
      "Epoch 5/5\n",
      "1875/1875 [==============================] - 3s 2ms/step - loss: 0.0744 - accuracy: 0.9764\n"
     ]
    }
   ],
   "source": [
    "mlp_hist = mlp_model.fit(x_train, y_train, epochs=5) # Batch by 32 by default."
   ]
  },
  {
   "cell_type": "code",
   "execution_count": 11,
   "metadata": {},
   "outputs": [
    {
     "name": "stdout",
     "output_type": "stream",
     "text": [
      "313/313 [==============================] - 1s 1ms/step - loss: 0.0759 - accuracy: 0.9777\n"
     ]
    }
   ],
   "source": [
    "mlp_ev = mlp_model.evaluate(x_test, y_test, verbose=1)"
   ]
  },
  {
   "cell_type": "code",
   "execution_count": 13,
   "metadata": {},
   "outputs": [
    {
     "name": "stdout",
     "output_type": "stream",
     "text": [
      "Class probabilities for test image :\n",
      " [[1.4266206e-07 6.4609251e-10 5.2445893e-07 4.6425753e-06 7.1137102e-12\n",
      "  1.2314234e-07 1.6805617e-12 9.9999392e-01 9.5639630e-09 5.3492590e-07]]\n",
      "Class probabilities for test image :\n",
      " [[1.4266206e-07 6.4609251e-10 5.2445893e-07 4.6425753e-06 7.1137102e-12\n",
      "  1.2314234e-07 1.6805617e-12 9.9999392e-01 9.5639630e-09 5.3492590e-07]]\n"
     ]
    }
   ],
   "source": [
    "# Probability result on test image\n",
    "pred = mlp_model(x_test[:1])\n",
    "print(f\"Class probabilities for test image :\\n {tf.nn.softmax(pred).numpy()}\")\n",
    "\n",
    "# Same using probability model \n",
    "proba_mlp_model = get_probability_model(mlp_model)\n",
    "pred2 = proba_mlp_model(x_test[:1])\n",
    "print(f\"Class probabilities for test image :\\n {pred2.numpy()}\")"
   ]
  },
  {
   "attachments": {},
   "cell_type": "markdown",
   "metadata": {},
   "source": [
    "$\\Rightarrow$ probability of being a 7 : 0.9999"
   ]
  },
  {
   "cell_type": "code",
   "execution_count": null,
   "metadata": {},
   "outputs": [
    {
     "data": {
      "image/png": "[encoded data removed]",
      "text/plain": [
       "<Figure size 216x216 with 1 Axes>"
      ]
     },
     "metadata": {},
     "output_type": "display_data"
    }
   ],
   "source": [
    "plot_img(x_test[0])"
   ]
  },
  {
   "attachments": {},
   "cell_type": "markdown",
   "metadata": {},
   "source": [
    "#### Comparison <a class=\"anchor\" id=\"models_res_comp\"></a>\n",
    "MNIST"
   ]
  },
  {
   "cell_type": "code",
   "execution_count": 51,
   "metadata": {},
   "outputs": [
    {
     "name": "stdout",
     "output_type": "stream",
     "text": [
      "Training : \n",
      "Epoch 1/5\n",
      "1875/1875 [==============================] - 4s 2ms/step - loss: 0.2959 - accuracy: 0.9147\n",
      "Epoch 2/5\n",
      "1875/1875 [==============================] - 3s 2ms/step - loss: 0.1402 - accuracy: 0.9584\n",
      "Epoch 3/5\n",
      "1875/1875 [==============================] - 3s 2ms/step - loss: 0.1082 - accuracy: 0.9681\n",
      "Epoch 4/5\n",
      "1875/1875 [==============================] - 3s 2ms/step - loss: 0.0878 - accuracy: 0.9723\n",
      "Epoch 5/5\n",
      "1875/1875 [==============================] - 4s 2ms/step - loss: 0.0770 - accuracy: 0.9757\n",
      "\n",
      "Evaluation : \n",
      "313/313 [==============================] - 0s 1ms/step - loss: 0.0839 - accuracy: 0.9751\n"
     ]
    }
   ],
   "source": [
    "mlp_mnist = run_model(\"mlp\", \"mnist\")"
   ]
  },
  {
   "cell_type": "code",
   "execution_count": 52,
   "metadata": {},
   "outputs": [
    {
     "name": "stdout",
     "output_type": "stream",
     "text": [
      "Training : \n",
      "Epoch 1/3\n",
      "1875/1875 [==============================] - 32s 17ms/step - loss: 0.1301 - accuracy: 0.9613\n",
      "Epoch 2/3\n",
      "1875/1875 [==============================] - 31s 17ms/step - loss: 0.0411 - accuracy: 0.9873\n",
      "Epoch 3/3\n",
      "1875/1875 [==============================] - 31s 16ms/step - loss: 0.0232 - accuracy: 0.9927\n",
      "\n",
      "Evaluation : \n",
      "313/313 [==============================] - 1s 4ms/step - loss: 0.0551 - accuracy: 0.9824\n"
     ]
    }
   ],
   "source": [
    "cnn_mnist = run_model(\"cnn\", \"mnist\")"
   ]
  },
  {
   "attachments": {},
   "cell_type": "markdown",
   "metadata": {},
   "source": [
    "Fashion MNIST"
   ]
  },
  {
   "cell_type": "code",
   "execution_count": 76,
   "metadata": {},
   "outputs": [
    {
     "name": "stdout",
     "output_type": "stream",
     "text": [
      "Training : \n",
      "Epoch 1/5\n",
      "1875/1875 [==============================] - 4s 2ms/step - loss: 0.5391 - accuracy: 0.8102\n",
      "Epoch 2/5\n",
      "1875/1875 [==============================] - 3s 1ms/step - loss: 0.3993 - accuracy: 0.8565\n",
      "Epoch 3/5\n",
      "1875/1875 [==============================] - 3s 1ms/step - loss: 0.3671 - accuracy: 0.8658\n",
      "Epoch 4/5\n",
      "1875/1875 [==============================] - 3s 1ms/step - loss: 0.3431 - accuracy: 0.8748\n",
      "Epoch 5/5\n",
      "1875/1875 [==============================] - 3s 1ms/step - loss: 0.3296 - accuracy: 0.8784\n",
      "\n",
      "Evaluation : \n",
      "313/313 [==============================] - 0s 926us/step - loss: 0.3549 - accuracy: 0.8718\n"
     ]
    }
   ],
   "source": [
    "mlp_fmnist = run_model(\"mlp\", \"fashion_mnist\")"
   ]
  },
  {
   "cell_type": "code",
   "execution_count": 56,
   "metadata": {},
   "outputs": [
    {
     "name": "stdout",
     "output_type": "stream",
     "text": [
      "Training : \n",
      "Epoch 1/3\n",
      "1875/1875 [==============================] - 32s 16ms/step - loss: 0.3737 - accuracy: 0.8672\n",
      "Epoch 2/3\n",
      "1875/1875 [==============================] - 29s 16ms/step - loss: 0.2465 - accuracy: 0.9090\n",
      "Epoch 3/3\n",
      "1875/1875 [==============================] - 30s 16ms/step - loss: 0.1931 - accuracy: 0.9283\n",
      "\n",
      "Evaluation : \n",
      "313/313 [==============================] - 1s 4ms/step - loss: 0.2760 - accuracy: 0.9004\n"
     ]
    }
   ],
   "source": [
    "cnn_fmnist = run_model(\"cnn\", \"fashion_mnist\")"
   ]
  },
  {
   "attachments": {},
   "cell_type": "markdown",
   "metadata": {},
   "source": [
    "## Custom Model <a class=\"anchor\" id=\"custom\"></a>\n",
    "#### Model <a class=\"anchor\" id=\"custom_mod\"></a>"
   ]
  },
  {
   "cell_type": "code",
   "execution_count": 3,
   "metadata": {},
   "outputs": [],
   "source": [
    "# Same model configuration as previous CNN\n",
    "class CustomModel(keras.Model):\n",
    "  def __init__(self):\n",
    "    super(CustomModel, self).__init__()\n",
    "    self.conv1 = layers.Conv2D(32, 3, activation='relu')\n",
    "    self.flatten = layers.Flatten()\n",
    "    self.d1 = layers.Dense(128, activation='relu')\n",
    "    self.d2 = layers.Dense(10)\n",
    "\n",
    "  def call(self, x):\n",
    "    x = self.conv1(x)\n",
    "    x = self.flatten(x)\n",
    "    x = self.d1(x)\n",
    "    return self.d2(x)"
   ]
  },
  {
   "attachments": {},
   "cell_type": "markdown",
   "metadata": {},
   "source": [
    "#### Data preparation functions <a class=\"anchor\" id=\"custom_data_prep\"></a>"
   ]
  },
  {
   "cell_type": "code",
   "execution_count": 4,
   "metadata": {},
   "outputs": [],
   "source": [
    "def batch_data(data, label, shuffle=False, batch_size=32):\n",
    "    # Prepare data for traning by batching in batch_size\n",
    "    if shuffle:\n",
    "        ds = tf.data.Dataset.from_tensor_slices((data, label)).shuffle(10000).batch(batch_size)\n",
    "    else:\n",
    "        ds = tf.data.Dataset.from_tensor_slices((data, label)).batch(batch_size)\n",
    "    return ds\n",
    "\n",
    "def get_prepared_data(name=\"mnist\", batch_size=32):\n",
    "    x_train, y_train, x_test, y_test, class_labels = get_data(name = name, to_channels=True)\n",
    "    train_ds = batch_data(x_train, y_train, True, batch_size)\n",
    "    test_ds = batch_data(x_test, y_test, False, batch_size)\n",
    "    return train_ds, test_ds, class_labels"
   ]
  },
  {
   "attachments": {},
   "cell_type": "markdown",
   "metadata": {},
   "source": [
    "#### Training functions <a class=\"anchor\" id=\"custom_func\"></a>"
   ]
  },
  {
   "cell_type": "code",
   "execution_count": 8,
   "metadata": {},
   "outputs": [],
   "source": [
    "@tf.function\n",
    "def train_step(model, images, labels, loss_obj, optimizer, train_loss_obj, train_acc_obj):\n",
    "  # Train step : predict batch, compute loss, compute gradient and take step\n",
    "  with tf.GradientTape() as tape:\n",
    "    predictions = model(images, training=True)\n",
    "    # training=True is only needed if there are layers with different\n",
    "    # behavior during training versus inference (e.g. Dropout).\n",
    "    loss = loss_obj(labels, predictions)\n",
    "  gradients = tape.gradient(loss, model.trainable_variables)\n",
    "  optimizer.apply_gradients(zip(gradients, model.trainable_variables))\n",
    "\n",
    "  train_loss_obj(loss)\n",
    "  train_acc_obj(labels, predictions)\n",
    "\n",
    "@tf.function\n",
    "def test_step(model, images, labels, loss_obj, test_loss_obj, test_acc_obj):\n",
    "  # Test step : predict and compute loss\n",
    "  predictions = model(images, training=False)\n",
    "  t_loss = loss_obj(labels, predictions)\n",
    "\n",
    "  test_loss_obj(t_loss)\n",
    "  test_acc_obj(labels, predictions)\n",
    "\n",
    "def fit_model(model, train_ds, test_ds, epochs):\n",
    "\n",
    "  # Modify here\n",
    "  loss_obj = tf.keras.losses.SparseCategoricalCrossentropy(from_logits=True)\n",
    "  optimizer = tf.keras.optimizers.Adam()\n",
    "  train_acc = tf.keras.metrics.SparseCategoricalAccuracy(name='train_accuracy')\n",
    "  test_acc = tf.keras.metrics.SparseCategoricalAccuracy(name='test_accuracy')\n",
    "\n",
    "  # Fixed\n",
    "  train_loss = tf.keras.metrics.Mean(name='train_loss')\n",
    "  test_loss = tf.keras.metrics.Mean(name='test_loss')\n",
    "\n",
    "  for epoch in range(epochs):\n",
    "    # Reset the metrics at the start of the next epoch\n",
    "    train_loss.reset_states()\n",
    "    train_acc.reset_states()\n",
    "    test_loss.reset_states()\n",
    "    test_acc.reset_states()\n",
    "\n",
    "    for images, labels in train_ds:\n",
    "      train_step(model, images, labels, loss_obj, optimizer, train_loss, train_acc)\n",
    "\n",
    "    for test_images, test_labels in test_ds:\n",
    "      test_step(model, test_images, test_labels, loss_obj, test_loss, test_acc)\n",
    "\n",
    "    print(f\"Epoch {epoch + 1}, Loss: {train_loss.result()}, Accuracy: {train_acc.result() * 100}, Test Loss: {test_loss.result()}, Test Accuracy: {test_acc.result() * 100}\")\n",
    "\n",
    "def evaluate(model, test_ds):\n",
    "  test_acc = tf.keras.metrics.SparseCategoricalAccuracy(name='test_accuracy')\n",
    "  loss_obj = tf.keras.losses.SparseCategoricalCrossentropy(from_logits=True)\n",
    "  test_loss = tf.keras.metrics.Mean(name='test_loss')\n",
    "  for test_images, test_labels in test_ds:\n",
    "      test_step(model, test_images, test_labels, loss_obj, test_loss, test_acc)\n",
    "  print(f\"Loss: {test_loss.result()}, Accuracy: {test_acc.result() * 100}\")\n",
    "\n",
    "def run_custom_model(data=\"mnist\", epochs = 3, batch_size = 32):\n",
    "  model = CustomModel()\n",
    "  train_ds, test_ds, class_labels = get_prepared_data(data, batch_size=batch_size)\n",
    "  print(\"Training : \")\n",
    "  fit_model(model, train_ds, test_ds, epochs)\n",
    "  print(\"\\nEvaluation : \")\n",
    "  evaluate(model, test_ds)\n",
    "  return model\n",
    "\n",
    "\n",
    "def run_custom_model_2(data=\"mnist\", epochs = 3, batch_size = 32):\n",
    "  inputs = keras.Input((28,28,1))\n",
    "  outputs = CustomModel()(inputs)\n",
    "  model = keras.Model(inputs, outputs)\n",
    "  train_ds, test_ds, class_labels = get_prepared_data(data, batch_size=batch_size)\n",
    "  print(\"Training : \")\n",
    "  fit_model(model, train_ds, test_ds, epochs)\n",
    "  print(\"\\nEvaluation : \")\n",
    "  evaluate(model, test_ds)\n",
    "  return model"
   ]
  },
  {
   "attachments": {},
   "cell_type": "markdown",
   "metadata": {},
   "source": [
    "#### Run <a class=\"anchor\" id=\"custom_run\"></a>"
   ]
  },
  {
   "cell_type": "code",
   "execution_count": 9,
   "metadata": {},
   "outputs": [
    {
     "name": "stdout",
     "output_type": "stream",
     "text": [
      "Training : \n",
      "Epoch 1, Loss: 0.13715019822120667, Accuracy: 95.87332916259766, Test Loss: 0.05976094305515289, Test Accuracy: 98.12999725341797\n",
      "Epoch 2, Loss: 0.0442320853471756, Accuracy: 98.60832977294922, Test Loss: 0.048400819301605225, Test Accuracy: 98.3499984741211\n",
      "Epoch 3, Loss: 0.025218859314918518, Accuracy: 99.20333862304688, Test Loss: 0.05392485857009888, Test Accuracy: 98.31999969482422\n",
      "\n",
      "Evaluation : \n",
      "Loss: 0.05392485857009888, Accuracy: 98.31999969482422\n"
     ]
    }
   ],
   "source": [
    "custom_model_mnist = run_custom_model(\"mnist\", 3)"
   ]
  },
  {
   "cell_type": "code",
   "execution_count": 151,
   "metadata": {},
   "outputs": [
    {
     "name": "stdout",
     "output_type": "stream",
     "text": [
      "Training : \n",
      "Epoch 1, Loss: 0.37237897515296936, Accuracy: 86.5816650390625, Test Loss: 0.31902825832366943, Test Accuracy: 88.29000091552734\n",
      "Epoch 2, Loss: 0.246293842792511, Accuracy: 90.9316635131836, Test Loss: 0.2816442549228668, Test Accuracy: 89.88999938964844\n",
      "Epoch 3, Loss: 0.19224192202091217, Accuracy: 92.81999969482422, Test Loss: 0.28733083605766296, Test Accuracy: 90.19000244140625\n",
      "\n",
      "Evaluation : \n",
      "Loss: 0.28733083605766296, Accuracy: 90.19000244140625\n"
     ]
    }
   ],
   "source": [
    "# Need to rerun the cell containing the @tf.function as they can only be used once.\n",
    "custom_model_fmnist = run_custom_model(\"fashion_mnist\", 3)"
   ]
  },
  {
   "attachments": {},
   "cell_type": "markdown",
   "metadata": {},
   "source": [
    "## Transfer learning <a class=\"anchor\" id=\"tl\"></a>\n",
    "#### Functions <a class=\"anchor\" id=\"tl_func\"></a>"
   ]
  },
  {
   "cell_type": "code",
   "execution_count": 3,
   "metadata": {},
   "outputs": [],
   "source": [
    "def get_tl_model():\n",
    "    # Load a convolutional base with pre-trained weights\n",
    "    base_model = keras.applications.Xception(\n",
    "        weights='imagenet',\n",
    "        include_top=False,\n",
    "        pooling='avg')\n",
    "\n",
    "    # Freeze the base model\n",
    "    base_model.trainable = False\n",
    "    # Use a Sequential model to add a trainable classifier on top\n",
    "    model = keras.Sequential([\n",
    "        base_model,\n",
    "        layers.Dense(10)])\n",
    "\n",
    "    # Compile & train\n",
    "    model.compile(optimizer=tf.keras.optimizers.Adam(),\n",
    "              loss=keras.losses.SparseCategoricalCrossentropy(from_logits=True),\n",
    "              metrics=['accuracy'])\n",
    "    return model\n",
    "\n",
    "def resize_numpy(images, n_times):\n",
    "    # Exact rescaling of image by repeating n times the values\n",
    "    if len(images.shape) == 3:\n",
    "        big_images = images.repeat(n_times, axis=0).repeat(n_times, axis=1)\n",
    "    else:\n",
    "        big_images = images.repeat(n_times, axis=1).repeat(n_times, axis=2)\n",
    "    return big_images\n",
    "\n",
    "def resize_tf(images, new_h, new_w):\n",
    "    # Rescaling of the image using interpolation\n",
    "    # Allows to rescale to any resolution\n",
    "    # Way slower than with numpy\n",
    "    if not isinstance(images, tf.Tensor):\n",
    "        images = tf.constant(images)\n",
    "        dtype = images.numpy().dtype\n",
    "    big_images = tf.image.resize(images, (new_h, new_w))\n",
    "    return big_images.numpy().astype(dtype)\n",
    "\n",
    "def grey_to_rgb_numpy(images):\n",
    "    # Converts images of shape (X, Y, 1) to (X, Y, 3)\n",
    "    rgb_images = np.repeat(images, 3, -1)\n",
    "    return rgb_images\n",
    "\n",
    "def grey_to_rgb_tf(images):\n",
    "    # Converts images of shape (X, Y, 1) to (X, Y, 3)\n",
    "    if not isinstance(images, tf.Tensor):\n",
    "        images = tf.constant(images)\n",
    "    rgb_images = tf.image.grayscale_to_rgb(images)\n",
    "    return rgb_images.numpy()\n",
    "\n",
    "def prepare_data_tl(images, n_times=3):\n",
    "    # Rescale and add RGB channels\n",
    "    return grey_to_rgb_numpy(resize_numpy(images, n_times))"
   ]
  },
  {
   "attachments": {},
   "cell_type": "markdown",
   "metadata": {},
   "source": [
    "#### Run <a class=\"anchor\" id=\"tl_run\"></a>"
   ]
  },
  {
   "cell_type": "code",
   "execution_count": 4,
   "metadata": {},
   "outputs": [
    {
     "name": "stderr",
     "output_type": "stream",
     "text": [
      "2023-02-02 20:43:38.057500: I tensorflow/core/platform/cpu_feature_guard.cc:193] This TensorFlow binary is optimized with oneAPI Deep Neural Network Library (oneDNN) to use the following CPU instructions in performance-critical operations:  AVX2 FMA\n",
      "To enable them in other operations, rebuild TensorFlow with the appropriate compiler flags.\n"
     ]
    },
    {
     "name": "stdout",
     "output_type": "stream",
     "text": [
      "Scaling train...\n",
      "Scaling test...\n"
     ]
    }
   ],
   "source": [
    "tl_model = get_tl_model()\n",
    "x_train, y_train, x_test, y_test, class_labels = get_data(name = \"fashion_mnist\", to_channels=True, as_type='float16')\n",
    "print(\"Scaling train...\")\n",
    "x_train = prepare_data_tl(x_train)\n",
    "print(\"Scaling test...\")\n",
    "x_test = prepare_data_tl(x_test)"
   ]
  },
  {
   "cell_type": "code",
   "execution_count": 6,
   "metadata": {},
   "outputs": [
    {
     "name": "stdout",
     "output_type": "stream",
     "text": [
      "Training : \n",
      "Epoch 1/2\n",
      "1875/1875 [==============================] - 521s 275ms/step - loss: 0.4940 - accuracy: 0.8300\n",
      "Epoch 2/2\n",
      "1875/1875 [==============================] - 538s 287ms/step - loss: 0.3754 - accuracy: 0.8671\n",
      "\n",
      "Evaluation : \n",
      "313/313 [==============================] - 89s 278ms/step - loss: 0.4091 - accuracy: 0.8611\n"
     ]
    }
   ],
   "source": [
    "# Training\n",
    "print(\"Training : \")\n",
    "hist = tl_model.fit(x_train, y_train, epochs=2)\n",
    "print(\"\\nEvaluation : \")\n",
    "ev = tl_model.evaluate(x_test,  y_test, verbose=1)"
   ]
  },
  {
   "cell_type": "code",
   "execution_count": null,
   "metadata": {},
   "outputs": [],
   "source": []
  },
  {
   "cell_type": "code",
   "execution_count": null,
   "metadata": {},
   "outputs": [],
   "source": []
  }
 ],
 "metadata": {
  "kernelspec": {
   "display_name": "MLenv",
   "language": "python",
   "name": "python3"
  },
  "language_info": {
   "codemirror_mode": {
    "name": "ipython",
    "version": 3
   },
   "file_extension": ".py",
   "mimetype": "text/x-python",
   "name": "python",
   "nbconvert_exporter": "python",
   "pygments_lexer": "ipython3",
   "version": "3.10.0"
  },
  "orig_nbformat": 4,
  "vscode": {
   "interpreter": {
    "hash": "6426c9220bfe1a8c7ff0ce859e6f33b5acad34c4c0f5893d3f6b700b522e351e"
   }
  }
 },
 "nbformat": 4,
 "nbformat_minor": 2
}
