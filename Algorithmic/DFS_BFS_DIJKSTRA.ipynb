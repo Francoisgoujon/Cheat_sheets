{
 "cells": [
  {
   "cell_type": "markdown",
   "id": "48e1adfa",
   "metadata": {},
   "source": [
    "# Cheat Sheet - DFS, BFS and DIJKSTRA\n",
    "### By François GOUJON"
   ]
  },
  {
   "cell_type": "markdown",
   "id": "6071aab8",
   "metadata": {},
   "source": [
    "### Table of Contents\n",
    "\n",
    "* [DFS](#dfs)\n",
    "    * [Algorithms](#dfs_1)\n",
    "    * [Paths in graphs](#dfs_2)\n",
    "    * [Examples](#dfs_3)\n",
    "    \n",
    "* [BFS](#bfs)\n",
    "    * [Algorithms](#bfs_1)\n",
    "    * [Paths in graphs](#bfs_2)\n",
    "    * [Examples](#bfs_3)\n",
    "    \n",
    "* [DIJKSTRA](#dijk)\n",
    "    * [Algorithms](#dijk_1)\n",
    "    * [Examples](#dijk_2)"
   ]
  },
  {
   "cell_type": "code",
   "execution_count": 1,
   "id": "3b36c3a9",
   "metadata": {},
   "outputs": [],
   "source": [
    "# Imports\n",
    "import networkx as nx\n",
    "import matplotlib.pyplot as plt\n",
    "from collections import deque\n",
    "import heapq\n",
    "import copy"
   ]
  },
  {
   "cell_type": "markdown",
   "id": "9a636691",
   "metadata": {},
   "source": [
    "<a class=\"anchor\" id=\"dfs\"></a>\n",
    "<h1 align=\"center\">DFS</h1>\n",
    "<h5 align=\"center\">LIFO data structure = stack</h5>"
   ]
  },
  {
   "cell_type": "markdown",
   "id": "823ae18e",
   "metadata": {},
   "source": [
    "## DFS Algorithms : <a class=\"anchor\" id=\"dfs_1\"></a>"
   ]
  },
  {
   "cell_type": "markdown",
   "id": "7e25c62e",
   "metadata": {},
   "source": [
    "#### DFS with while loop and stack"
   ]
  },
  {
   "cell_type": "code",
   "execution_count": 2,
   "id": "e2d89f98",
   "metadata": {},
   "outputs": [],
   "source": [
    "\"\"\"\n",
    "Classical DFS to return visited nodes\n",
    "\"\"\"\n",
    "def dfs_1(graph, start):\n",
    "    \n",
    "    visited = set()\n",
    "    stack = [start]\n",
    "    \n",
    "    while stack:\n",
    "        vertex = stack.pop()\n",
    "        if vertex not in visited:\n",
    "            visited.add(vertex)\n",
    "            for neib in graph[vertex]:\n",
    "                if neib not in visited:\n",
    "                    stack.append(neib)\n",
    "    return visited\n",
    "\n",
    "\"\"\"\n",
    "Classical DFS to return visited nodes optimized with Set operator\n",
    "\"\"\"\n",
    "def dfs_2(graph, start):\n",
    "    visited = set()\n",
    "    stack = [start]\n",
    "    \n",
    "    while stack:\n",
    "        vertex = stack.pop()\n",
    "        if vertex not in visited:\n",
    "            visited.add(vertex)\n",
    "            stack.extend(graph[vertex] - visited) # With set, A - B = A\\(AnB)\n",
    "    return visited"
   ]
  },
  {
   "cell_type": "markdown",
   "id": "dfde7479",
   "metadata": {},
   "source": [
    "#### DFS recursive"
   ]
  },
  {
   "cell_type": "code",
   "execution_count": 3,
   "id": "fe71bbdb",
   "metadata": {},
   "outputs": [],
   "source": [
    "\"\"\"\n",
    "Recursive DFS to return visited nodes\n",
    "\"\"\"\n",
    "def dfs_recur(graph, start):\n",
    "    \n",
    "    visited = set()\n",
    "    \n",
    "    def recur(graph, node):\n",
    "        visited.add(node)\n",
    "        for neib in (graph[node] - visited):\n",
    "            recur(graph, neib)\n",
    "    \n",
    "    recur(graph, start)\n",
    "            \n",
    "    return visited"
   ]
  },
  {
   "cell_type": "markdown",
   "id": "7dfa17c3",
   "metadata": {},
   "source": [
    "### DFS application : find paths in graphs <a class=\"anchor\" id=\"dfs_2\"></a>"
   ]
  },
  {
   "cell_type": "markdown",
   "id": "fbfcc339",
   "metadata": {},
   "source": [
    "1 - Routing Table "
   ]
  },
  {
   "cell_type": "code",
   "execution_count": 4,
   "id": "d9cb275d",
   "metadata": {},
   "outputs": [],
   "source": [
    "\"\"\"\n",
    "DFS graph traversal from start node. Same algo as dfs_1 and dfs_2 with routing table added.\n",
    "Returns the nodes visited and a routing table to know a parent of each accesible node\n",
    "which can then be used to build paths (Not shortest ones)\n",
    "\"\"\"\n",
    "def dfs_traversal(graph, start_node) :\n",
    "    visited = set()\n",
    "    stack = [(start_node, None)] # (Current Node, Parent Node) \n",
    "    routing_table = {} \n",
    "    \n",
    "    while stack:\n",
    "        (curr_node, parent) = stack.pop()\n",
    "        if curr_node not in visited:\n",
    "            visited.add(curr_node) \n",
    "            routing_table[curr_node] = parent \n",
    "            for neib in (graph[curr_node] - visited):           \n",
    "                stack.append((neib, curr_node))\n",
    "              \n",
    "    return visited, routing_table\n",
    "\n",
    "\"\"\"\n",
    "Returns a path between 2 nodes with dfs_traversal function\n",
    "\"\"\"\n",
    "def routing_path_dfs(graph, start_node, final_node) :\n",
    "    visited, table = dfs_traversal(graph, start_node)\n",
    "    path = []\n",
    "    current_node = final_node\n",
    "    while current_node != start_node :\n",
    "        path.append(current_node)\n",
    "        current_node = table[current_node]\n",
    "    path.append(start_node)\n",
    "    path.reverse()\n",
    "    return path"
   ]
  },
  {
   "cell_type": "markdown",
   "id": "02ffdd6b",
   "metadata": {},
   "source": [
    "2 - Paths"
   ]
  },
  {
   "cell_type": "code",
   "execution_count": 5,
   "id": "1646ffa3",
   "metadata": {},
   "outputs": [],
   "source": [
    "\"\"\"\n",
    "Find all the paths between start and goal in the graph, while version\n",
    "\"\"\"\n",
    "def dfs_paths(graph, start, goal):\n",
    "    final_paths = []\n",
    "    stack = [(start, [start])]\n",
    "    while stack:\n",
    "        (vertex, path) = stack.pop() # To find all paths we remove the line \"if vertex not in visited:\"\n",
    "        for neib in (graph[vertex] - set(path)):\n",
    "            if neib == goal:\n",
    "                final_paths.append(path + [neib])\n",
    "            else:\n",
    "                stack.append((neib, path + [neib]))\n",
    "    return final_paths\n",
    "\n",
    "\"\"\"\n",
    "Find all the paths between start and goal in the graph, recursive version\n",
    "\"\"\"\n",
    "def dfs_paths_recur(graph, start, goal):\n",
    "    \n",
    "    final_paths = []\n",
    "    \n",
    "    def recur(node, path):\n",
    "        if node == goal:\n",
    "            final_paths.append(path.copy())\n",
    "            return\n",
    "        for neib in (graph[node] - set(path)):\n",
    "            recur(neib, path + [neib])\n",
    "    \n",
    "    recur(start, [start])\n",
    "    return final_paths"
   ]
  },
  {
   "cell_type": "markdown",
   "id": "b0210bf2",
   "metadata": {},
   "source": [
    "## Examples <a class=\"anchor\" id=\"dfs_3\"></a>"
   ]
  },
  {
   "cell_type": "code",
   "execution_count": 6,
   "id": "294ffe3e",
   "metadata": {},
   "outputs": [],
   "source": [
    "graph1 = {'A': set(['B', 'C']),\n",
    "         'B': set(['A', 'D', 'E']),\n",
    "         'C': set(['A', 'F']),\n",
    "         'D': set(['B']),\n",
    "         'E': set(['B', 'F']),\n",
    "         'F': set(['C', 'E'])}\n",
    "\n",
    "graph2 = {'A': set(['B', 'C', 'F']),\n",
    "         'B': set(['A', 'D', 'E']),\n",
    "         'C': set(['A', 'G', 'I']),\n",
    "         'D': set(['B']),\n",
    "         'E': set(['B', 'F']),\n",
    "         'F': set(['H', 'E', 'A']),\n",
    "         'G': set(['C']),\n",
    "         'H': set(['F']),\n",
    "         'I': set(['C'])}"
   ]
  },
  {
   "cell_type": "code",
   "execution_count": 7,
   "id": "ea765a67",
   "metadata": {},
   "outputs": [
    {
     "data": {
      "text/plain": [
       "[]"
      ]
     },
     "execution_count": 7,
     "metadata": {},
     "output_type": "execute_result"
    },
    {
     "data": {
      "image/png": "[encoded data removed]",
      "text/plain": [
       "<Figure size 1440x360 with 2 Axes>"
      ]
     },
     "metadata": {},
     "output_type": "display_data"
    }
   ],
   "source": [
    "g1 = nx.Graph(graph1)\n",
    "g2 = nx.Graph(graph2)\n",
    "fig, (ax1, ax2) = plt.subplots(1, 2, figsize=(20,5))\n",
    "nx.draw(g1, with_labels = True, ax = ax1)\n",
    "ax1.set_title(\"G1\")\n",
    "nx.draw(g2, with_labels = True, ax = ax2)\n",
    "ax2.set_title(\"G2\")\n",
    "plt.plot()"
   ]
  },
  {
   "cell_type": "markdown",
   "id": "5b53fa99",
   "metadata": {},
   "source": [
    "### Visiting Nodes"
   ]
  },
  {
   "cell_type": "code",
   "execution_count": 8,
   "id": "3c0445cd",
   "metadata": {},
   "outputs": [
    {
     "data": {
      "text/plain": [
       "{'A', 'B', 'C', 'D', 'E', 'F'}"
      ]
     },
     "execution_count": 8,
     "metadata": {},
     "output_type": "execute_result"
    }
   ],
   "source": [
    "dfs_1(graph1, 'A')"
   ]
  },
  {
   "cell_type": "code",
   "execution_count": 9,
   "id": "5398ec7b",
   "metadata": {},
   "outputs": [
    {
     "data": {
      "text/plain": [
       "{'A', 'B', 'C', 'D', 'E', 'F'}"
      ]
     },
     "execution_count": 9,
     "metadata": {},
     "output_type": "execute_result"
    }
   ],
   "source": [
    "dfs_2(graph1, 'A')"
   ]
  },
  {
   "cell_type": "code",
   "execution_count": 10,
   "id": "e95dbb48",
   "metadata": {},
   "outputs": [
    {
     "data": {
      "text/plain": [
       "{'A', 'B', 'C', 'D', 'E', 'F'}"
      ]
     },
     "execution_count": 10,
     "metadata": {},
     "output_type": "execute_result"
    }
   ],
   "source": [
    "dfs_recur(graph1, 'A')"
   ]
  },
  {
   "cell_type": "code",
   "execution_count": 11,
   "id": "58fb96ba",
   "metadata": {},
   "outputs": [
    {
     "name": "stdout",
     "output_type": "stream",
     "text": [
      "Execution Times\n",
      "DFS 1\n",
      "2.14 µs ± 54.3 ns per loop (mean ± std. dev. of 7 runs, 100,000 loops each)\n",
      "DFS 2\n",
      "2.11 µs ± 24.2 ns per loop (mean ± std. dev. of 7 runs, 100,000 loops each)\n",
      "Recursive DFS\n",
      "2.49 µs ± 123 ns per loop (mean ± std. dev. of 7 runs, 100,000 loops each)\n"
     ]
    }
   ],
   "source": [
    "print(\"Execution Times\")\n",
    "print(\"DFS 1\")\n",
    "%timeit dfs_1(graph1, 'A')\n",
    "print(\"DFS 2\")\n",
    "%timeit dfs_2(graph1, 'A')\n",
    "print(\"Recursive DFS\")\n",
    "%timeit dfs_recur(graph1, 'A')"
   ]
  },
  {
   "cell_type": "markdown",
   "id": "dd2e451b",
   "metadata": {},
   "source": [
    "### Finding paths"
   ]
  },
  {
   "cell_type": "code",
   "execution_count": 13,
   "id": "4b58cfa7",
   "metadata": {},
   "outputs": [
    {
     "data": {
      "text/plain": [
       "({'A', 'B', 'C', 'D', 'E', 'F'},\n",
       " {'A': None, 'C': 'A', 'F': 'C', 'E': 'F', 'B': 'E', 'D': 'B'})"
      ]
     },
     "execution_count": 13,
     "metadata": {},
     "output_type": "execute_result"
    }
   ],
   "source": [
    "dfs_traversal(graph1, 'A')"
   ]
  },
  {
   "cell_type": "code",
   "execution_count": 14,
   "id": "646fb047",
   "metadata": {},
   "outputs": [
    {
     "data": {
      "text/plain": [
       "['A', 'C', 'F', 'E', 'B']"
      ]
     },
     "execution_count": 14,
     "metadata": {},
     "output_type": "execute_result"
    }
   ],
   "source": [
    "routing_path_dfs(graph1, 'A', 'B') # Routing method with dfs does not return the shortest path"
   ]
  },
  {
   "cell_type": "code",
   "execution_count": 15,
   "id": "269d063d",
   "metadata": {},
   "outputs": [
    {
     "data": {
      "text/plain": [
       "[['A', 'B'], ['A', 'C', 'F', 'E', 'B']]"
      ]
     },
     "execution_count": 15,
     "metadata": {},
     "output_type": "execute_result"
    }
   ],
   "source": [
    "dfs_paths(graph1, 'A', 'B')"
   ]
  },
  {
   "cell_type": "code",
   "execution_count": 16,
   "id": "2d3ffabb",
   "metadata": {},
   "outputs": [
    {
     "data": {
      "text/plain": [
       "[['A', 'B'], ['A', 'C', 'F', 'E', 'B']]"
      ]
     },
     "execution_count": 16,
     "metadata": {},
     "output_type": "execute_result"
    }
   ],
   "source": [
    "dfs_paths_recur(graph1, 'A', 'B')"
   ]
  },
  {
   "cell_type": "code",
   "execution_count": 17,
   "id": "5d04dc47",
   "metadata": {},
   "outputs": [
    {
     "name": "stdout",
     "output_type": "stream",
     "text": [
      "Execution Times\n",
      "DFS Traversal\n",
      "3.36 µs ± 138 ns per loop (mean ± std. dev. of 7 runs, 100,000 loops each)\n",
      "DFS Paths\n",
      "2.17 µs ± 63.9 ns per loop (mean ± std. dev. of 7 runs, 100,000 loops each)\n",
      "Recursive DFS Paths\n",
      "2.64 µs ± 50.8 ns per loop (mean ± std. dev. of 7 runs, 100,000 loops each)\n"
     ]
    }
   ],
   "source": [
    "print(\"Execution Times\")\n",
    "print(\"DFS Traversal\")\n",
    "%timeit routing_path_dfs(graph1, 'A', 'B')\n",
    "print(\"DFS Paths\")\n",
    "%timeit dfs_paths(graph1, 'A', 'B')\n",
    "print(\"Recursive DFS Paths\")\n",
    "%timeit dfs_paths_recur(graph1, 'A', 'B')"
   ]
  },
  {
   "cell_type": "code",
   "execution_count": null,
   "id": "605f0096",
   "metadata": {},
   "outputs": [],
   "source": []
  },
  {
   "cell_type": "markdown",
   "id": "7e05424b",
   "metadata": {},
   "source": [
    "<a class=\"anchor\" id=\"bfs\"></a>\n",
    "<h1 align=\"center\">BFS</h1>\n",
    "<h5 align=\"center\">FIFO data structure = queue</h5>"
   ]
  },
  {
   "cell_type": "markdown",
   "id": "a176e52d",
   "metadata": {},
   "source": [
    "## BFS Algorithms : <a class=\"anchor\" id=\"bfs_1\"></a>"
   ]
  },
  {
   "cell_type": "markdown",
   "id": "64d5aaf8",
   "metadata": {},
   "source": [
    "#### BFS with while loop and queue"
   ]
  },
  {
   "cell_type": "code",
   "execution_count": 8,
   "id": "b8461eea",
   "metadata": {},
   "outputs": [],
   "source": [
    "\"\"\"\n",
    "Classical BFS to return visited nodes. \n",
    "Exaclty same code as dfs_2 with .pop(0) instead of .pop()\n",
    "\"\"\"\n",
    "def bfs_1(graph, start):\n",
    "    visited = set()\n",
    "    queue = [start]\n",
    "    \n",
    "    while queue:\n",
    "        vertex = queue.pop(0)\n",
    "        if vertex not in visited:\n",
    "            visited.add(vertex)\n",
    "            queue.extend(graph[vertex] - visited)\n",
    "    return visited\n",
    "\n",
    "\"\"\"\n",
    "Classical BFS with deque lib. Allows popleft() instead of pop(0) for better performance (pop(0) is O(n) and popleft() is O(1))\n",
    "\"\"\"\n",
    "def bfs_2(graph, start):\n",
    "    visited = set()\n",
    "    queue = deque([start])\n",
    "    \n",
    "    while queue:\n",
    "        vertex = queue.popleft()\n",
    "        if vertex not in visited:\n",
    "            visited.add(vertex)\n",
    "            queue.extend(graph[vertex] - visited)\n",
    "    return visited"
   ]
  },
  {
   "cell_type": "markdown",
   "id": "4ead1564",
   "metadata": {},
   "source": [
    "### BFS application : find paths in graphs <a class=\"anchor\" id=\"bfs_2\"></a>"
   ]
  },
  {
   "cell_type": "markdown",
   "id": "def4b2b9",
   "metadata": {},
   "source": [
    "1 - Routing Table"
   ]
  },
  {
   "cell_type": "code",
   "execution_count": 35,
   "id": "5f66675e",
   "metadata": {},
   "outputs": [],
   "source": [
    "\"\"\"\n",
    "BFS graph traversal from start node. Same algo as bfs_2 with routing table added.\n",
    "Returns the nodes visited and a routing table to know a parent of each accesible node\n",
    "which can then be used to build paths (Shortest ones)\n",
    "\"\"\"\n",
    "def bfs_traversal(graph, start_node) :\n",
    "    visited = set()\n",
    "    queue = deque([(start_node, None)]) # (Current Node, Parent Node) \n",
    "    routing_table = {} \n",
    "    \n",
    "    while queue:\n",
    "        (curr_node, parent) = queue.popleft()\n",
    "        if curr_node not in visited :\n",
    "            visited.add(curr_node) \n",
    "            routing_table[curr_node] = parent \n",
    "            for neib in (graph[curr_node] - visited):           \n",
    "                queue.append((neib, curr_node))\n",
    "              \n",
    "    return visited, routing_table\n",
    "\n",
    "\"\"\"\n",
    "We can also do the same traversal without the visited set since we keep\n",
    "track of visited nodes with the routing table\n",
    "\"\"\"\n",
    "def bfs_traversal_2(graph, start_node) :\n",
    "    queue = deque([(start_node, None)]) # (Current Node, Parent Node) \n",
    "    routing_table = {} \n",
    "    \n",
    "    while queue:\n",
    "        (curr_node, parent) = queue.popleft()\n",
    "        if curr_node not in routing_table:\n",
    "            routing_table[curr_node] = parent \n",
    "            for neib in graph[curr_node]:\n",
    "                if neib not in routing_table:           \n",
    "                    queue.append((neib, curr_node))\n",
    "              \n",
    "    return routing_table\n",
    "\n",
    "\"\"\"\n",
    "Same than previous but by keeping only the node in the deque.\n",
    "\"\"\"\n",
    "def bfs_traversal_3(graph, start_node) :\n",
    "        queue = deque([start_node]) # (Current Node, Parent Node) \n",
    "        routing_table = {start_node: None} \n",
    "        \n",
    "        while queue:\n",
    "            curr_node = queue.popleft()\n",
    "            for neib in graph[curr_node]:\n",
    "                if neib not in routing_table:\n",
    "                    routing_table[neib] = curr_node            \n",
    "                    queue.append(neib)\n",
    "                \n",
    "        return routing_table\n",
    "\n",
    "\"\"\"\n",
    "Returns a path between 2 nodes with bfs_traversal function.\n",
    "This will be the shortest path\n",
    "\"\"\"\n",
    "def routing_path_bfs(graph, start_node, final_node, version=1) :\n",
    "    if version == 1:\n",
    "        visited, table = bfs_traversal(graph, start_node)\n",
    "    elif version == 2:\n",
    "        table = bfs_traversal_2(graph, start_node)\n",
    "    elif version == 3:\n",
    "        table = bfs_traversal_3(graph, start_node)\n",
    "    path = []\n",
    "    current_node = final_node\n",
    "    while current_node != start_node :\n",
    "        path.append(current_node)\n",
    "        current_node = table[current_node]\n",
    "    path.append(start_node)\n",
    "    path.reverse()\n",
    "    return path"
   ]
  },
  {
   "cell_type": "markdown",
   "id": "00439759",
   "metadata": {},
   "source": [
    "2 - Paths"
   ]
  },
  {
   "cell_type": "code",
   "execution_count": 10,
   "id": "c8587ef9",
   "metadata": {},
   "outputs": [],
   "source": [
    "\"\"\"\n",
    "Find all the paths between start and goal in the graph. \n",
    "Exactly same code as dfs_paths with .pop(0) instead of .pop()\n",
    "\"\"\"\n",
    "def bfs_paths_1(graph, start, goal):\n",
    "    final_paths = []\n",
    "    queue = [(start, [start])]\n",
    "    while queue:\n",
    "        (vertex, path) = queue.pop(0)\n",
    "        for neib in (graph[vertex] - set(path)):\n",
    "            if neib == goal:\n",
    "                final_paths.append(path + [neib])\n",
    "            else:\n",
    "                queue.append((neib, path + [neib]))\n",
    "    return final_paths\n",
    "\n",
    "\"\"\"\n",
    "Same code as bfs_paths_1 with deque queue.\n",
    "\"\"\"\n",
    "def bfs_paths_2(graph, start, goal):\n",
    "    final_paths = []\n",
    "    queue = deque([(start, [start])])\n",
    "    while queue:\n",
    "        (vertex, path) = queue.popleft()\n",
    "        for neib in (graph[vertex] - set(path)):\n",
    "            if neib == goal:\n",
    "                final_paths.append(path + [neib])\n",
    "            else:\n",
    "                queue.append((neib, path + [neib]))\n",
    "    return final_paths\n",
    "\n",
    "\"\"\"\n",
    "With BFS, the shortest path is the first found\n",
    "\"\"\"\n",
    "def shortest_path(graph, start, goal):\n",
    "    try:\n",
    "        return bfs_paths_2(graph, start, goal)[0]\n",
    "    except:\n",
    "        return None\n",
    "    \n",
    "\"\"\"\n",
    "Since the shortest path is the first found, we can return at the first path found\n",
    "Same code as bfs_paths_2\n",
    "\"\"\"\n",
    "def shortest_path_2(graph, start, goal):\n",
    "    queue = deque([(start, [start])])\n",
    "    while queue:\n",
    "        (vertex, path) = queue.popleft()\n",
    "        for neib in (graph[vertex] - set(path)):\n",
    "            if neib == goal:\n",
    "                return path + [neib]\n",
    "            else:\n",
    "                queue.append((neib, path + [neib]))\n",
    "    # if we end up here there is no path\n",
    "    return []"
   ]
  },
  {
   "cell_type": "markdown",
   "id": "0c573223",
   "metadata": {},
   "source": [
    "## Examples <a class=\"anchor\" id=\"bfs_3\"></a>"
   ]
  },
  {
   "cell_type": "code",
   "execution_count": 12,
   "id": "60d40bc9",
   "metadata": {},
   "outputs": [
    {
     "data": {
      "text/plain": [
       "[]"
      ]
     },
     "execution_count": 12,
     "metadata": {},
     "output_type": "execute_result"
    },
    {
     "data": {
      "image/png": "[encoded data removed]",
      "text/plain": [
       "<Figure size 1440x360 with 2 Axes>"
      ]
     },
     "metadata": {},
     "output_type": "display_data"
    }
   ],
   "source": [
    "g1 = nx.Graph(graph1)\n",
    "g2 = nx.Graph(graph2)\n",
    "fig, (ax1, ax2) = plt.subplots(1, 2, figsize=(20,5))\n",
    "nx.draw(g1, with_labels = True, ax = ax1)\n",
    "ax1.set_title(\"G1\")\n",
    "nx.draw(g2, with_labels = True, ax = ax2)\n",
    "ax2.set_title(\"G2\")\n",
    "plt.plot()"
   ]
  },
  {
   "cell_type": "markdown",
   "id": "7a373ef0",
   "metadata": {},
   "source": [
    "### Visiting Nodes"
   ]
  },
  {
   "cell_type": "code",
   "execution_count": 22,
   "id": "bbdb7dc0",
   "metadata": {},
   "outputs": [
    {
     "data": {
      "text/plain": [
       "{'A', 'B', 'C', 'D', 'E', 'F'}"
      ]
     },
     "execution_count": 22,
     "metadata": {},
     "output_type": "execute_result"
    }
   ],
   "source": [
    "bfs_1(graph1, 'A')"
   ]
  },
  {
   "cell_type": "code",
   "execution_count": 23,
   "id": "00048b9e",
   "metadata": {},
   "outputs": [
    {
     "data": {
      "text/plain": [
       "{'A', 'B', 'C', 'D', 'E', 'F'}"
      ]
     },
     "execution_count": 23,
     "metadata": {},
     "output_type": "execute_result"
    }
   ],
   "source": [
    "bfs_2(graph1, 'A')"
   ]
  },
  {
   "cell_type": "code",
   "execution_count": 24,
   "id": "391f5894",
   "metadata": {},
   "outputs": [
    {
     "name": "stdout",
     "output_type": "stream",
     "text": [
      "Execution Times\n",
      "BFS 1\n",
      "2.34 µs ± 98 ns per loop (mean ± std. dev. of 7 runs, 100,000 loops each)\n",
      "BFS 2\n",
      "2.11 µs ± 52.9 ns per loop (mean ± std. dev. of 7 runs, 100,000 loops each)\n"
     ]
    }
   ],
   "source": [
    "print(\"Execution Times\")\n",
    "print(\"BFS 1\")\n",
    "%timeit bfs_1(graph1, 'A')\n",
    "print(\"BFS 2\")\n",
    "%timeit bfs_2(graph1, 'A')"
   ]
  },
  {
   "cell_type": "markdown",
   "id": "d97e9b6c",
   "metadata": {},
   "source": [
    "### Finding paths"
   ]
  },
  {
   "cell_type": "code",
   "execution_count": 30,
   "id": "0832330b",
   "metadata": {},
   "outputs": [
    {
     "data": {
      "text/plain": [
       "({'A', 'B', 'C', 'D', 'E', 'F'},\n",
       " {'A': None, 'C': 'A', 'B': 'A', 'F': 'C', 'D': 'B', 'E': 'B'})"
      ]
     },
     "execution_count": 30,
     "metadata": {},
     "output_type": "execute_result"
    }
   ],
   "source": [
    "bfs_traversal(graph1, 'A')"
   ]
  },
  {
   "cell_type": "code",
   "execution_count": 36,
   "id": "971420da",
   "metadata": {},
   "outputs": [
    {
     "data": {
      "text/plain": [
       "{'A': None, 'C': 'A', 'B': 'A', 'F': 'C', 'E': 'B', 'D': 'B'}"
      ]
     },
     "execution_count": 36,
     "metadata": {},
     "output_type": "execute_result"
    }
   ],
   "source": [
    "bfs_traversal_2(graph1, 'A')"
   ]
  },
  {
   "cell_type": "code",
   "execution_count": 32,
   "id": "e65ed71c",
   "metadata": {},
   "outputs": [
    {
     "data": {
      "text/plain": [
       "{'A': None, 'C': 'A', 'B': 'A', 'F': 'C', 'E': 'B', 'D': 'B'}"
      ]
     },
     "execution_count": 32,
     "metadata": {},
     "output_type": "execute_result"
    }
   ],
   "source": [
    "bfs_traversal_3(graph1, 'A')"
   ]
  },
  {
   "cell_type": "code",
   "execution_count": 36,
   "id": "7c014873",
   "metadata": {},
   "outputs": [
    {
     "data": {
      "text/plain": [
       "['A', 'B']"
      ]
     },
     "execution_count": 36,
     "metadata": {},
     "output_type": "execute_result"
    }
   ],
   "source": [
    "routing_path_bfs(graph1, 'A', 'B') # Routing method with BFS returns the shortest path"
   ]
  },
  {
   "cell_type": "code",
   "execution_count": 37,
   "id": "0514a606",
   "metadata": {},
   "outputs": [
    {
     "data": {
      "text/plain": [
       "[['A', 'B'], ['A', 'C', 'F', 'E', 'B']]"
      ]
     },
     "execution_count": 37,
     "metadata": {},
     "output_type": "execute_result"
    }
   ],
   "source": [
    "bfs_paths_1(graph1, 'A', 'B')"
   ]
  },
  {
   "cell_type": "code",
   "execution_count": 29,
   "id": "007b449b",
   "metadata": {},
   "outputs": [
    {
     "data": {
      "text/plain": [
       "[['A', 'B'], ['A', 'C', 'F', 'E', 'B']]"
      ]
     },
     "execution_count": 29,
     "metadata": {},
     "output_type": "execute_result"
    }
   ],
   "source": [
    "bfs_paths_2(graph1, 'A', 'B')"
   ]
  },
  {
   "cell_type": "code",
   "execution_count": 42,
   "id": "bcbfcdd0",
   "metadata": {},
   "outputs": [
    {
     "data": {
      "text/plain": [
       "['A', 'B', 'E']"
      ]
     },
     "execution_count": 42,
     "metadata": {},
     "output_type": "execute_result"
    }
   ],
   "source": [
    "shortest_path(graph1, 'A', 'E')"
   ]
  },
  {
   "cell_type": "code",
   "execution_count": 43,
   "id": "465c7c50",
   "metadata": {},
   "outputs": [
    {
     "data": {
      "text/plain": [
       "['A', 'B', 'E']"
      ]
     },
     "execution_count": 43,
     "metadata": {},
     "output_type": "execute_result"
    }
   ],
   "source": [
    "shortest_path_2(graph1, 'A', 'E')"
   ]
  },
  {
   "cell_type": "code",
   "execution_count": 44,
   "id": "ff716993",
   "metadata": {},
   "outputs": [
    {
     "name": "stdout",
     "output_type": "stream",
     "text": [
      "Execution Times\n",
      "BFS Traversal\n",
      "3.1 µs ± 107 ns per loop (mean ± std. dev. of 7 runs, 100,000 loops each)\n",
      "BFS Paths 1\n",
      "2.83 µs ± 114 ns per loop (mean ± std. dev. of 7 runs, 100,000 loops each)\n",
      "BFS Paths 2\n",
      "2.88 µs ± 126 ns per loop (mean ± std. dev. of 7 runs, 100,000 loops each)\n",
      "BFS shortest path 1\n",
      "2.89 µs ± 137 ns per loop (mean ± std. dev. of 7 runs, 100,000 loops each)\n",
      "BFS shortest path 2\n",
      "1.51 µs ± 21.8 ns per loop (mean ± std. dev. of 7 runs, 1,000,000 loops each)\n"
     ]
    }
   ],
   "source": [
    "print(\"Execution Times\")\n",
    "print(\"BFS Traversal\")\n",
    "%timeit routing_path_bfs(graph1, 'A', 'E')\n",
    "print(\"BFS Paths 1\")\n",
    "%timeit bfs_paths_1(graph1, 'A', 'E')\n",
    "print(\"BFS Paths 2\")\n",
    "%timeit bfs_paths_2(graph1, 'A', 'E')\n",
    "print(\"BFS shortest path 1\")\n",
    "%timeit shortest_path(graph1, 'A', 'E')\n",
    "print(\"BFS shortest path 2\")\n",
    "%timeit shortest_path_2(graph1, 'A', 'E')"
   ]
  },
  {
   "cell_type": "code",
   "execution_count": 34,
   "id": "72edd1ea",
   "metadata": {
    "scrolled": true
   },
   "outputs": [
    {
     "name": "stdout",
     "output_type": "stream",
     "text": [
      "Execution Times\n",
      "BFS Traversal\n",
      "4.28 µs ± 5.87 ns per loop (mean ± std. dev. of 7 runs, 100,000 loops each)\n",
      "BFS Traversal 2\n",
      "3.9 µs ± 12 ns per loop (mean ± std. dev. of 7 runs, 100,000 loops each)\n",
      "BFS Traversal 3\n",
      "3.06 µs ± 113 ns per loop (mean ± std. dev. of 7 runs, 100,000 loops each)\n",
      "BFS Paths 1\n",
      "8.2 µs ± 93.4 ns per loop (mean ± std. dev. of 7 runs, 100,000 loops each)\n",
      "BFS Paths 2\n",
      "7.65 µs ± 93.1 ns per loop (mean ± std. dev. of 7 runs, 100,000 loops each)\n",
      "BFS shortest path 1\n",
      "7.62 µs ± 44.8 ns per loop (mean ± std. dev. of 7 runs, 100,000 loops each)\n",
      "BFS shortest path 2\n",
      "3.07 µs ± 6.27 ns per loop (mean ± std. dev. of 7 runs, 100,000 loops each)\n"
     ]
    }
   ],
   "source": [
    "print(\"Execution Times\")\n",
    "print(\"BFS Traversal\")\n",
    "%timeit routing_path_bfs(graph2, 'H', 'I')\n",
    "print(\"BFS Traversal 2\")\n",
    "%timeit routing_path_bfs(graph2, 'H', 'I', 2)\n",
    "print(\"BFS Traversal 3\")\n",
    "%timeit routing_path_bfs(graph2, 'H', 'I', 3)\n",
    "print(\"BFS Paths 1\")\n",
    "%timeit bfs_paths_1(graph2, 'H', 'I')\n",
    "print(\"BFS Paths 2\")\n",
    "%timeit bfs_paths_2(graph2, 'H', 'I')\n",
    "print(\"BFS shortest path 1\")\n",
    "%timeit shortest_path(graph2, 'H', 'I')\n",
    "print(\"BFS shortest path 2\")\n",
    "%timeit shortest_path_2(graph2, 'H', 'I')"
   ]
  },
  {
   "cell_type": "markdown",
   "id": "5cdb9f92",
   "metadata": {},
   "source": [
    "Fastest ways to find the shortest path in unweighted graph: BFS which stops at the first path found."
   ]
  },
  {
   "cell_type": "code",
   "execution_count": null,
   "id": "866a772b",
   "metadata": {},
   "outputs": [],
   "source": []
  },
  {
   "cell_type": "markdown",
   "id": "80d64808",
   "metadata": {},
   "source": [
    "<a class=\"anchor\" id=\"dijk\"></a>\n",
    "<h1 align=\"center\">DIJKSTRA</h1>"
   ]
  },
  {
   "cell_type": "markdown",
   "id": "784eda5b",
   "metadata": {},
   "source": [
    "## Dijkstra Algorithms <a class=\"anchor\" id=\"dijk_1\"></a>"
   ]
  },
  {
   "cell_type": "code",
   "execution_count": 148,
   "id": "b9e777b7",
   "metadata": {},
   "outputs": [],
   "source": [
    "\"\"\"\n",
    "Finds the shortest distance between start and every node it is connected to, in a weighted graph.\n",
    "Returns a dictionnary with (node, (parent, distance)) as (key, value)\n",
    "Since there are weights, a 3 steps path migth be shorter than a 2 steps path, and therefore we want to \n",
    "try every possible paths so we don't save the visited nodes.\n",
    "Else from that, it is a BFS algorithm with distance dict added.\n",
    "\n",
    "Possible optmization with a previous routing table : if routing[vertex][1] == previous_routing[vertex][1]\n",
    "we can skip the node\n",
    "\"\"\"\n",
    "def dijkstra_1(graph, start):\n",
    "    queue = deque([start])\n",
    "    routing = {start: (None,0)}\n",
    "    while queue:\n",
    "        vertex = queue.popleft()  # We want to try all possible paths so we remove the line \"if vertex not in visited:\"\n",
    "        for neib in graph[vertex]: # and we check all neighbours\n",
    "            dist = routing[vertex][1] + graph[vertex][neib]\n",
    "            if (neib not in routing or dist < routing[neib][1]):\n",
    "                routing[neib] = (vertex, dist)\n",
    "                queue.append(neib)  \n",
    "                    \n",
    "    return routing"
   ]
  },
  {
   "cell_type": "code",
   "execution_count": 160,
   "id": "79d64360",
   "metadata": {},
   "outputs": [],
   "source": [
    "\"\"\"\n",
    "Min heap class for dijkstra queue\n",
    "\"\"\"\n",
    "class PriorityQueue:\n",
    "    \"\"\"Class implementing the PriorityQueue\"\"\"\n",
    "\n",
    "    def __init__(self, elements=[]):\n",
    "        \"\"\" Can optionally take as parameter an iterable of couples (element, weight)\n",
    "        with which the heap will be initialized.\"\"\"\n",
    "    \n",
    "        self._elements = list([(w, e) for (e, w) in elements])\n",
    "        heapq.heapify(self._elements)\n",
    "        self._index = set([e for (_, e) in self._elements])\n",
    "\n",
    "    def __bool__(self):\n",
    "        \"\"\" Returns true if the heap is not empty, as is usually done in Python. \"\"\"\n",
    "        return bool(self._index)\n",
    "\n",
    "    def __len__(self):\n",
    "        \"\"\" Returns the number of elements in the heap. \"\"\"\n",
    "        return len(self._index)\n",
    "\n",
    "    def add_or_replace(self, element, weight):\n",
    "        \"\"\" If element is not already in the heap, inserts it with the provided weight and\n",
    "        returns True. If element is already in the heap, replaces its weight and returns True\n",
    "        if the provided new weight is lower than the previous one, returns False otherwise. \"\"\"\n",
    "\n",
    "        if element not in self._index:\n",
    "            heapq.heappush(self._elements, (weight, element))\n",
    "            self._index.add(element)\n",
    "            return True\n",
    "        else:\n",
    "            position = [e for (_, e) in self._elements].index(element)\n",
    "            (w, _) = self._elements[position]\n",
    "            if (weight < w):\n",
    "                self._elements[position] = (weight, element)\n",
    "                heapq.heapify(self._elements)\n",
    "                return True\n",
    "            else:\n",
    "                return False\n",
    "\n",
    "    def pop(self):\n",
    "        \"\"\" Removes the element with lowest weight and returns a couple (element,weight). \"\"\"\n",
    "\n",
    "        (w, e) = heapq.heappop(self._elements)\n",
    "        self._index.remove(e)\n",
    "        return (e, w)\n",
    "\n",
    "\"\"\"\n",
    "Finds the shortest distance between start and every node it is connected to, in a weighted graph\n",
    "Returns a dictionnary with (node, (parent, distance)) as (key, value)\n",
    "This time we use a min_heap as queue so we always pop the next nearest node to the start, allowing us to use\n",
    "a visited set for better efficiency\n",
    "\"\"\"\n",
    "def dijkstra_2(graph, start_vertex):\n",
    "    min_heap = PriorityQueue()\n",
    "    min_heap.add_or_replace(start_vertex, 0)\n",
    "    visited = set()\n",
    "    routing_table = {start_vertex: (None, 0)} # (Parent, Distance)\n",
    "    \n",
    "    while min_heap :\n",
    "        vertex, distance = min_heap.pop()\n",
    "        if vertex not in visited:  # Not sure if this line is useful \n",
    "            visited.add(vertex)\n",
    "            for neib in graph[vertex]:\n",
    "                if neib not in visited:\n",
    "                    distance_neib = distance + graph[vertex][neib]\n",
    "                    b = min_heap.add_or_replace(neib, distance_neib)\n",
    "                    if b :\n",
    "                        routing_table[neib] = (vertex, distance_neib)\n",
    "        else:\n",
    "            print(\"here\")\n",
    "    return routing_table\n",
    "\n",
    "\"\"\"\n",
    "Returns the shortest path between 2 nodes with dijkstra function\n",
    "\"\"\"\n",
    "def routing_path_dijk(graph, start_node, final_node) :\n",
    "    table = dijkstra_2(graph, start_node)\n",
    "    path = []\n",
    "    current_node = final_node\n",
    "    while current_node != start_node :\n",
    "        path.append(current_node)\n",
    "        current_node = table[current_node][0]\n",
    "    path.append(start_node)\n",
    "    path.reverse()\n",
    "    return path, table[final_node][1]"
   ]
  },
  {
   "cell_type": "markdown",
   "id": "3e357fc6",
   "metadata": {},
   "source": [
    "## Examples <a class=\"anchor\" id=\"dijk_2\"></a>"
   ]
  },
  {
   "cell_type": "code",
   "execution_count": 102,
   "id": "cf3a0e21",
   "metadata": {},
   "outputs": [],
   "source": [
    "def weigthedGraph_toNX(graph):\n",
    "    gnx = copy.deepcopy(graph)\n",
    "    for node, neibs in gnx.items():\n",
    "        for neib in neibs:\n",
    "            neibs[neib] = {'weight': neibs[neib]}\n",
    "    return gnx"
   ]
  },
  {
   "cell_type": "code",
   "execution_count": 137,
   "id": "fe528497",
   "metadata": {},
   "outputs": [],
   "source": [
    "graph3 = {'A':{'B':15,'C':4},'B':{'E':5},'C':{'E':3,'D':2},'D':{'E':3},'E':{'B':5, 'C':3}}\n",
    "g3nx = weigthedGraph_toNX(graph3)\n",
    "graph4 = {'A':{'B':15,'C':4, 'H':3},'B':{'E':5, 'G':3},'C':{'E':11,'D':2},'D':{'E':3},\n",
    "          'E':{'C':11}, 'F':{'A':5, 'B':9}, 'G':{'B':3, 'E':6, 'F':10}, 'H':{'D':7, 'A':3}}\n",
    "g4nx = weigthedGraph_toNX(graph4)"
   ]
  },
  {
   "cell_type": "code",
   "execution_count": 138,
   "id": "8f00511e",
   "metadata": {},
   "outputs": [
    {
     "data": {
      "application/javascript": "\n        if (window._pyforest_update_imports_cell) { window._pyforest_update_imports_cell('import matplotlib.pyplot as plt'); }\n    ",
      "text/plain": [
       "<IPython.core.display.Javascript object>"
      ]
     },
     "metadata": {},
     "output_type": "display_data"
    },
    {
     "data": {
      "application/javascript": "\n        if (window._pyforest_update_imports_cell) { window._pyforest_update_imports_cell('import matplotlib.pyplot as plt'); }\n    ",
      "text/plain": [
       "<IPython.core.display.Javascript object>"
      ]
     },
     "metadata": {},
     "output_type": "display_data"
    },
    {
     "data": {
      "text/plain": [
       "[]"
      ]
     },
     "execution_count": 138,
     "metadata": {},
     "output_type": "execute_result"
    },
    {
     "data": {
      "image/png": "[encoded data removed]",
      "text/plain": [
       "<Figure size 1440x360 with 2 Axes>"
      ]
     },
     "metadata": {},
     "output_type": "display_data"
    }
   ],
   "source": [
    "fig, (ax1, ax2) = plt.subplots(1, 2, figsize=(20,5))\n",
    "\n",
    "g3 = nx.DiGraph(g3nx)\n",
    "pos3 = nx.planar_layout(g3)\n",
    "edge_labels_3 = nx.get_edge_attributes(g3, \"weight\")\n",
    "nx.draw(g3, pos3, with_labels = True, ax = ax1)\n",
    "nx.draw_networkx_edge_labels(g3, pos3, edge_labels_3, ax=ax1)\n",
    "ax1.set_title(\"G3\")\n",
    "\n",
    "g4 = nx.DiGraph(g4nx)\n",
    "pos4 = nx.planar_layout(g4)\n",
    "edge_labels_4 = nx.get_edge_attributes(g4, \"weight\")\n",
    "nx.draw(g4, pos4, with_labels = True, ax = ax2)\n",
    "nx.draw_networkx_edge_labels(g4, pos4, edge_labels_4, ax=ax2)\n",
    "ax2.set_title(\"G4\")\n",
    "\n",
    "plt.plot()"
   ]
  },
  {
   "cell_type": "code",
   "execution_count": 150,
   "id": "6a29aead",
   "metadata": {},
   "outputs": [
    {
     "data": {
      "text/plain": [
       "{'A': (None, 0), 'B': ('E', 12), 'C': ('A', 4), 'E': ('C', 7), 'D': ('C', 6)}"
      ]
     },
     "execution_count": 150,
     "metadata": {},
     "output_type": "execute_result"
    }
   ],
   "source": [
    "dijkstra_1(graph3, 'A')"
   ]
  },
  {
   "cell_type": "code",
   "execution_count": 151,
   "id": "8cef2ebd",
   "metadata": {},
   "outputs": [
    {
     "data": {
      "text/plain": [
       "{'A': (None, 0), 'B': ('E', 12), 'C': ('A', 4), 'E': ('C', 7), 'D': ('C', 6)}"
      ]
     },
     "execution_count": 151,
     "metadata": {},
     "output_type": "execute_result"
    }
   ],
   "source": [
    "dijkstra_2(graph3, 'A')"
   ]
  },
  {
   "cell_type": "code",
   "execution_count": 152,
   "id": "d7923e24",
   "metadata": {},
   "outputs": [
    {
     "data": {
      "text/plain": [
       "(['A', 'C', 'E', 'B'], 12)"
      ]
     },
     "execution_count": 152,
     "metadata": {},
     "output_type": "execute_result"
    }
   ],
   "source": [
    "routing_path_dijk(graph3, 'A', 'B')"
   ]
  },
  {
   "cell_type": "code",
   "execution_count": 154,
   "id": "ad6b2e83",
   "metadata": {},
   "outputs": [
    {
     "data": {
      "text/plain": [
       "{'A': (None, 0),\n",
       " 'B': ('A', 15),\n",
       " 'C': ('A', 4),\n",
       " 'H': ('A', 3),\n",
       " 'E': ('D', 9),\n",
       " 'G': ('B', 18),\n",
       " 'D': ('C', 6),\n",
       " 'F': ('G', 28)}"
      ]
     },
     "execution_count": 154,
     "metadata": {},
     "output_type": "execute_result"
    }
   ],
   "source": [
    "dijkstra_1(graph4, 'A')"
   ]
  },
  {
   "cell_type": "code",
   "execution_count": 153,
   "id": "94b02bb7",
   "metadata": {},
   "outputs": [
    {
     "data": {
      "text/plain": [
       "{'A': (None, 0),\n",
       " 'B': ('A', 15),\n",
       " 'C': ('A', 4),\n",
       " 'H': ('A', 3),\n",
       " 'D': ('C', 6),\n",
       " 'E': ('D', 9),\n",
       " 'G': ('B', 18),\n",
       " 'F': ('G', 28)}"
      ]
     },
     "execution_count": 153,
     "metadata": {},
     "output_type": "execute_result"
    }
   ],
   "source": [
    "dijkstra_2(graph4, 'A')"
   ]
  },
  {
   "cell_type": "code",
   "execution_count": 156,
   "id": "47cf6899",
   "metadata": {},
   "outputs": [
    {
     "name": "stdout",
     "output_type": "stream",
     "text": [
      "Execution Times\n",
      "Dijkstra 1 G3\n",
      "3.19 µs ± 32.1 ns per loop (mean ± std. dev. of 7 runs, 100,000 loops each)\n",
      "Dijkstra 2 G3\n",
      "7.42 µs ± 78 ns per loop (mean ± std. dev. of 7 runs, 100,000 loops each)\n",
      "Dijkstra 1 G4\n",
      "4.87 µs ± 52.3 ns per loop (mean ± std. dev. of 7 runs, 100,000 loops each)\n",
      "Dijkstra 2 G4\n",
      "11 µs ± 113 ns per loop (mean ± std. dev. of 7 runs, 100,000 loops each)\n"
     ]
    }
   ],
   "source": [
    "print(\"Execution Times\")\n",
    "print(\"Dijkstra 1 G3\")\n",
    "%timeit dijkstra_1(graph3, 'A')\n",
    "print(\"Dijkstra 2 G3\")\n",
    "%timeit dijkstra_2(graph3, 'A')\n",
    "print(\"Dijkstra 1 G4\")\n",
    "%timeit dijkstra_1(graph4, 'A')\n",
    "print(\"Dijkstra 2 G4\")\n",
    "%timeit dijkstra_2(graph4, 'A')"
   ]
  },
  {
   "cell_type": "code",
   "execution_count": null,
   "id": "2cc9ddd6",
   "metadata": {},
   "outputs": [],
   "source": []
  }
 ],
 "metadata": {
  "kernelspec": {
   "display_name": "Python 3.10.0 ('MLenv')",
   "language": "python",
   "name": "python3"
  },
  "language_info": {
   "codemirror_mode": {
    "name": "ipython",
    "version": 3
   },
   "file_extension": ".py",
   "mimetype": "text/x-python",
   "name": "python",
   "nbconvert_exporter": "python",
   "pygments_lexer": "ipython3",
   "version": "3.10.0"
  },
  "vscode": {
   "interpreter": {
    "hash": "6426c9220bfe1a8c7ff0ce859e6f33b5acad34c4c0f5893d3f6b700b522e351e"
   }
  }
 },
 "nbformat": 4,
 "nbformat_minor": 5
}
