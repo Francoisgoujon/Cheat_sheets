{
 "cells": [
  {
   "attachments": {},
   "cell_type": "markdown",
   "id": "1a1fbed8",
   "metadata": {},
   "source": [
    "# Cheat Sheet - SORT\n",
    "François GOUJON\n",
    "\n",
    "Content : Various sorting algorithm"
   ]
  },
  {
   "cell_type": "code",
   "execution_count": 1,
   "id": "3c5f2a5c",
   "metadata": {},
   "outputs": [],
   "source": [
    "# Imports\n",
    "import numpy as np\n",
    "import random\n",
    "import heapq"
   ]
  },
  {
   "cell_type": "markdown",
   "id": "0b8b531e",
   "metadata": {},
   "source": [
    "## Functions"
   ]
  },
  {
   "cell_type": "code",
   "execution_count": 5,
   "id": "56f11b0e",
   "metadata": {},
   "outputs": [],
   "source": [
    "# QuickSort\n",
    "def quicksort(l):\n",
    "    \n",
    "    if len(l) < 2:\n",
    "        return l[:]\n",
    "    else:\n",
    "        pivot = l[0]\n",
    "        less = [k for k in l[1:] if k<=pivot]\n",
    "        greater = [k for k in l[1:] if k>pivot]\n",
    "        \n",
    "        return quicksort(less) + [pivot] + quicksort(greater)\n",
    "\n",
    "# Fusion Sort\n",
    "def fusion(l1, l2):\n",
    "    n1, n2 = len(l1), len(l2)\n",
    "    i1, i2 = 0, 0\n",
    "    l = []\n",
    "    while i1 < n1 and i2 < n2:\n",
    "        if l1[i1] < l2[i2]:\n",
    "            l.append(l1[i1])\n",
    "            i1 += 1\n",
    "        else:\n",
    "            l.append(l2[i2])\n",
    "            i2 += 1\n",
    "    if i1 == n1:\n",
    "        l.extend(l2[i2:])\n",
    "    else:\n",
    "        l.extend(l1[i1:])\n",
    "    return l\n",
    "\n",
    "def trifusion(l):\n",
    "    n = len(l)\n",
    "    if n < 2:\n",
    "        return l[:]\n",
    "    else:\n",
    "        return fusion(trifusion(l[:n//2]), trifusion(l[n//2:]))\n",
    "    \n",
    "# min-heap\n",
    "def hppush(l,x):\n",
    "    l.append(x)\n",
    "    i = len(l) - 1\n",
    "    while i>0 and l[i] < l[(i-1)//2]:\n",
    "        l[i], l[(i-1)//2] = l[(i-1)//2], l[i]\n",
    "        i = (i-1)//2\n",
    "        \n",
    "def hppop(l):\n",
    "    l[0], l[-1] = l[-1], l[0]\n",
    "    x = l.pop()\n",
    "    i = 0\n",
    "    while 2*i+2 < len(l) and (l[i]>l[2*i+1] or l[i]>l[2*i+2]):\n",
    "        if l[2*i+1] < l[2*i+2]:\n",
    "            l[i], l[2*i+1] = l[2*i+1], l[i]\n",
    "            i = 2*i + 1\n",
    "        else:\n",
    "            l[i], l[2*i+2] = l[2*i+2], l[i]\n",
    "            i = 2*i + 2\n",
    "    if 2*i+1 < len(l) and l[i]>l[2*i+1]:\n",
    "        l[i], l[2*i+1] = l[2*i+1], l[i]\n",
    "    return x\n",
    "\n",
    "def hpfy(l):\n",
    "    h = []\n",
    "    for x in l:\n",
    "        hppush(h,x)\n",
    "    return h\n",
    "\n",
    "def hpsort(l):\n",
    "    n = len(l)\n",
    "    h = hpfy(l)\n",
    "    ls = [hppop(h) for k in range(n)]\n",
    "    return ls\n",
    "\n",
    "def isHeap(l):\n",
    "    n = len(l)\n",
    "    for i in range(n//2):\n",
    "        if l[2*i+1] < l[i]:\n",
    "            print(i, l[i], 2*i+1, l[2*i+1])\n",
    "            return False\n",
    "        if (2*i+2 < n and l[2*i+2] < l[i]):\n",
    "            print(i, l[i], 2*i+2, l[2*i+2])\n",
    "            return False\n",
    "    return True"
   ]
  },
  {
   "cell_type": "markdown",
   "id": "fdf07742",
   "metadata": {},
   "source": [
    "## Results"
   ]
  },
  {
   "cell_type": "code",
   "execution_count": 6,
   "id": "72352760",
   "metadata": {},
   "outputs": [],
   "source": [
    "l = [random.randint(1,1000) for k in range(500)]"
   ]
  },
  {
   "cell_type": "code",
   "execution_count": 8,
   "id": "78fc3976",
   "metadata": {},
   "outputs": [
    {
     "name": "stdout",
     "output_type": "stream",
     "text": [
      "Execution Times\n",
      "Built in\n",
      "34.2 µs ± 634 ns per loop (mean ± std. dev. of 7 runs, 10,000 loops each)\n",
      "Quicksort\n",
      "767 µs ± 17.4 µs per loop (mean ± std. dev. of 7 runs, 1,000 loops each)\n",
      "Fusion sort\n",
      "1.13 ms ± 4.47 µs per loop (mean ± std. dev. of 7 runs, 1,000 loops each)\n",
      "Heap sort\n",
      "2.11 ms ± 21.4 µs per loop (mean ± std. dev. of 7 runs, 100 loops each)\n"
     ]
    }
   ],
   "source": [
    "print(\"Execution Times\")\n",
    "print(\"Built in\")\n",
    "%timeit sorted(l)\n",
    "print(\"Quicksort\")\n",
    "%timeit quicksort(l)\n",
    "print(\"Fusion sort\")\n",
    "%timeit trifusion(l)\n",
    "print(\"Heap sort\")\n",
    "%timeit hpsort(l)"
   ]
  },
  {
   "cell_type": "code",
   "execution_count": 10,
   "id": "3345f333",
   "metadata": {},
   "outputs": [
    {
     "data": {
      "text/plain": [
       "[101, 835, 504, 867, 723, 868, 773, 987, 209, 589]"
      ]
     },
     "execution_count": 10,
     "metadata": {},
     "output_type": "execute_result"
    }
   ],
   "source": [
    "l2 = [random.randint(1,1000) for k in range(10)]\n",
    "l2"
   ]
  },
  {
   "cell_type": "code",
   "execution_count": 11,
   "id": "e6ad4531",
   "metadata": {},
   "outputs": [
    {
     "data": {
      "text/plain": [
       "[101, 209, 504, 723, 589, 868, 773, 987, 867, 835]"
      ]
     },
     "execution_count": 11,
     "metadata": {},
     "output_type": "execute_result"
    }
   ],
   "source": [
    "h = hpfy(l2)\n",
    "h"
   ]
  },
  {
   "cell_type": "code",
   "execution_count": 12,
   "id": "35e23387",
   "metadata": {},
   "outputs": [
    {
     "data": {
      "text/plain": [
       "True"
      ]
     },
     "execution_count": 12,
     "metadata": {},
     "output_type": "execute_result"
    }
   ],
   "source": [
    "isHeap(h)"
   ]
  },
  {
   "cell_type": "code",
   "execution_count": 14,
   "id": "2ec336f2",
   "metadata": {},
   "outputs": [
    {
     "data": {
      "text/plain": [
       "101"
      ]
     },
     "execution_count": 14,
     "metadata": {},
     "output_type": "execute_result"
    }
   ],
   "source": [
    "hppop(h)"
   ]
  },
  {
   "cell_type": "code",
   "execution_count": 15,
   "id": "bb4e768e",
   "metadata": {},
   "outputs": [
    {
     "data": {
      "text/plain": [
       "[209, 589, 504, 723, 835, 868, 773, 987, 867]"
      ]
     },
     "execution_count": 15,
     "metadata": {},
     "output_type": "execute_result"
    }
   ],
   "source": [
    "h"
   ]
  },
  {
   "cell_type": "code",
   "execution_count": null,
   "id": "62133a87",
   "metadata": {},
   "outputs": [],
   "source": []
  }
 ],
 "metadata": {
  "kernelspec": {
   "display_name": "Python 3 (ipykernel)",
   "language": "python",
   "name": "python3"
  },
  "language_info": {
   "codemirror_mode": {
    "name": "ipython",
    "version": 3
   },
   "file_extension": ".py",
   "mimetype": "text/x-python",
   "name": "python",
   "nbconvert_exporter": "python",
   "pygments_lexer": "ipython3",
   "version": "3.10.0 (default, Nov 10 2021, 11:24:47) [Clang 12.0.0 ]"
  },
  "vscode": {
   "interpreter": {
    "hash": "6426c9220bfe1a8c7ff0ce859e6f33b5acad34c4c0f5893d3f6b700b522e351e"
   }
  }
 },
 "nbformat": 4,
 "nbformat_minor": 5
}
